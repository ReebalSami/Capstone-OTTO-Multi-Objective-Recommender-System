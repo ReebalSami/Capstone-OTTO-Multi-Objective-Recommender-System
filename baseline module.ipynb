{
 "cells": [
  {
   "cell_type": "code",
   "execution_count": 2,
   "metadata": {},
   "outputs": [],
   "source": [
    "\n",
    "import gc\n",
    "import polars as pl\n",
    "from gensim.test.utils import common_texts\n",
    "from gensim.models import Word2Vec\n",
    "import seaborn as sns\n",
    "import pandas as pd\n",
    "from collections import Counter\n",
    "from heapq import nlargest\n",
    "\n",
    "\n",
    "\n"
   ]
  },
  {
   "cell_type": "code",
   "execution_count": 7,
   "metadata": {},
   "outputs": [],
   "source": [
    "df_pol_train = pl.read_parquet('../data/train.parquet')\n",
    "df_pol_test = pl.read_parquet('../data/test.parquet')"
   ]
  },
  {
   "cell_type": "code",
   "execution_count": null,
   "metadata": {},
   "outputs": [],
   "source": [
    "df_test_json = pd.read_json(\"../data/test.jsonl\", lines=True)"
   ]
  },
  {
   "cell_type": "code",
   "execution_count": 3,
   "metadata": {},
   "outputs": [],
   "source": [
    "df_train_json = pd.read_json(\"../data/train.jsonl\", lines=True, chunksize = 100000)"
   ]
  },
  {
   "cell_type": "code",
   "execution_count": 4,
   "metadata": {},
   "outputs": [
    {
     "data": {
      "text/plain": [
       "<pandas.io.json._json.JsonReader at 0x1074e7700>"
      ]
     },
     "execution_count": 4,
     "metadata": {},
     "output_type": "execute_result"
    }
   ],
   "source": [
    "df_train_json"
   ]
  },
  {
   "cell_type": "code",
   "execution_count": 5,
   "metadata": {},
   "outputs": [
    {
     "ename": "TypeError",
     "evalue": "object of type 'JsonReader' has no len()",
     "output_type": "error",
     "traceback": [
      "\u001b[0;31m---------------------------------------------------------------------------\u001b[0m",
      "\u001b[0;31mTypeError\u001b[0m                                 Traceback (most recent call last)",
      "Cell \u001b[0;32mIn[5], line 1\u001b[0m\n\u001b[0;32m----> 1\u001b[0m df \u001b[39m=\u001b[39m pd\u001b[39m.\u001b[39;49mDataFrame\u001b[39m.\u001b[39;49mfrom_dict(df_train_json, orient\u001b[39m=\u001b[39;49m\u001b[39m\"\u001b[39;49m\u001b[39mindex\u001b[39;49m\u001b[39m\"\u001b[39;49m)\n",
      "File \u001b[0;32m~/Desktop/neuefische/Capstone-OTTO-Multi-Objective-Recommender-System/.venv/lib/python3.9/site-packages/pandas/core/frame.py:1745\u001b[0m, in \u001b[0;36mDataFrame.from_dict\u001b[0;34m(cls, data, orient, dtype, columns)\u001b[0m\n\u001b[1;32m   1743\u001b[0m orient \u001b[39m=\u001b[39m orient\u001b[39m.\u001b[39mlower()\n\u001b[1;32m   1744\u001b[0m \u001b[39mif\u001b[39;00m orient \u001b[39m==\u001b[39m \u001b[39m\"\u001b[39m\u001b[39mindex\u001b[39m\u001b[39m\"\u001b[39m:\n\u001b[0;32m-> 1745\u001b[0m     \u001b[39mif\u001b[39;00m \u001b[39mlen\u001b[39;49m(data) \u001b[39m>\u001b[39m \u001b[39m0\u001b[39m:\n\u001b[1;32m   1746\u001b[0m         \u001b[39m# TODO speed up Series case\u001b[39;00m\n\u001b[1;32m   1747\u001b[0m         \u001b[39mif\u001b[39;00m \u001b[39misinstance\u001b[39m(\u001b[39mlist\u001b[39m(data\u001b[39m.\u001b[39mvalues())[\u001b[39m0\u001b[39m], (Series, \u001b[39mdict\u001b[39m)):\n\u001b[1;32m   1748\u001b[0m             data \u001b[39m=\u001b[39m _from_nested_dict(data)\n",
      "\u001b[0;31mTypeError\u001b[0m: object of type 'JsonReader' has no len()"
     ]
    }
   ],
   "source": [
    "\n",
    "df = pd.DataFrame.from_dict(df_train_json, orient=\"index\")"
   ]
  },
  {
   "cell_type": "code",
   "execution_count": 31,
   "metadata": {},
   "outputs": [
    {
     "data": {
      "text/html": [
       "<div>\n",
       "<style scoped>\n",
       "    .dataframe tbody tr th:only-of-type {\n",
       "        vertical-align: middle;\n",
       "    }\n",
       "\n",
       "    .dataframe tbody tr th {\n",
       "        vertical-align: top;\n",
       "    }\n",
       "\n",
       "    .dataframe thead th {\n",
       "        text-align: right;\n",
       "    }\n",
       "\n",
       "    .dataframe td {\n",
       "        white-space: pre;\n",
       "    }\n",
       "\n",
       "    .dataframe td {\n",
       "        padding-top: 0;\n",
       "    }\n",
       "\n",
       "    .dataframe td {\n",
       "        padding-bottom: 0;\n",
       "    }\n",
       "</style>\n",
       "<table border=\"1\" class=\"dataframe\">\n",
       "<small>shape: (1,)</small>\n",
       "<thead>\n",
       "<tr>\n",
       "<th>\n",
       "type\n",
       "</th>\n",
       "</tr>\n",
       "<tr>\n",
       "<td>\n",
       "u8\n",
       "</td>\n",
       "</tr>\n",
       "</thead>\n",
       "<tbody>\n",
       "<tr>\n",
       "<td>\n",
       "0\n",
       "</td>\n",
       "</tr>\n",
       "</tbody>\n",
       "</table>\n",
       "</div>"
      ],
      "text/plain": [
       "shape: (1,)\n",
       "Series: 'type' [u8]\n",
       "[\n",
       "\t0\n",
       "]"
      ]
     },
     "execution_count": 31,
     "metadata": {},
     "output_type": "execute_result"
    }
   ],
   "source": [
    "i = 0\n",
    "for row in df_pol_train[\"type\"]:\n",
    "   \n",
    "   for session in row:\n",
    " \n",
    "         if value == \"clicks\":\n",
    "            sample_test_df[\"test_clicks\"][i].append(session[\"aid\"])\n",
    "         if value == \"carts\": \n",
    "            sample_test_df[\"test_carts\"][i].append(session[\"aid\"])\n",
    "         if value == \"orders\":\n",
    "            sample_test_df[\"test_orders\"][i].append(session[\"aid\"])\n",
    "      \n",
    "   i += 1"
   ]
  },
  {
   "attachments": {},
   "cell_type": "markdown",
   "metadata": {},
   "source": [
    "Lets find the most common article for each different type of action"
   ]
  },
  {
   "cell_type": "code",
   "execution_count": 37,
   "metadata": {},
   "outputs": [],
   "source": [
    "\n",
    "#sample_df = df_test_json[:150000]\n",
    "clicks_article_list = []\n",
    "carts_article_list = []\n",
    "orders_article_list = []\n",
    "    \n",
    "i = 0    \n",
    "for type in df_pol_train[\"type\"]:\n",
    "        if type == 0:\n",
    "                clicks_article_list.append(df_pol_train[\"aid\"][i])\n",
    "        elif type == 1:\n",
    "                carts_article_list.append(df_pol_train[\"aid\"][i])\n",
    "        else:\n",
    "                orders_article_list.append(df_pol_train[\"aid\"][i])\n",
    "\n",
    "        i += 1"
   ]
  },
  {
   "cell_type": "code",
   "execution_count": 38,
   "metadata": {},
   "outputs": [],
   "source": [
    "# Create dictionaries with articles and their frequencies\n",
    "article_click_freq = Counter(clicks_article_list)\n",
    "article_carts_freq = Counter(carts_article_list)\n",
    "article_order_freq = Counter(orders_article_list)"
   ]
  },
  {
   "cell_type": "code",
   "execution_count": 39,
   "metadata": {},
   "outputs": [],
   "source": [
    "top_click_article = sorted(article_click_freq, key=article_click_freq.get, reverse=True)[:20]\n",
    "top_carts_article = sorted(article_carts_freq, key=article_carts_freq.get, reverse=True)[:20]\n",
    "top_order_article = sorted(article_order_freq, key=article_order_freq.get, reverse=True)[:20]"
   ]
  },
  {
   "cell_type": "code",
   "execution_count": 52,
   "metadata": {},
   "outputs": [
    {
     "data": {
      "text/plain": [
       "[1460571,\n",
       " 108125,\n",
       " 29735,\n",
       " 485256,\n",
       " 1733943,\n",
       " 184976,\n",
       " 832192,\n",
       " 1502122,\n",
       " 554660,\n",
       " 1603001,\n",
       " 986164,\n",
       " 166037,\n",
       " 322370,\n",
       " 1236775,\n",
       " 231487,\n",
       " 959208,\n",
       " 332654,\n",
       " 1196256,\n",
       " 95488,\n",
       " 620545]"
      ]
     },
     "execution_count": 52,
     "metadata": {},
     "output_type": "execute_result"
    }
   ],
   "source": [
    "sorted(article_click_freq, key=article_click_freq.get, reverse=True)[:20]"
   ]
  },
  {
   "cell_type": "code",
   "execution_count": null,
   "metadata": {},
   "outputs": [],
   "source": [
    "# Create a dict with this info\n",
    "frequent_articles = {'clicks': top_click_article, 'carts':top_carts_article, 'order':top_order_article}"
   ]
  },
  {
   "cell_type": "code",
   "execution_count": null,
   "metadata": {},
   "outputs": [],
   "source": [
    "for action in ['clicks', 'carts', 'order']:\n",
    "    print(f'Most frequent articles for {action}: {frequent_articles[action][:5]}')"
   ]
  },
  {
   "attachments": {},
   "cell_type": "markdown",
   "metadata": {},
   "source": [
    "y_test = week nr 5 \n",
    "y_train = weeks 1-4\n",
    "\n",
    "y= each step in a session after truncation by timestamp (not done yet by the costumer in real session)\n",
    "x= every step in the session, before truncation by timestamp. (all the clicks, etc. that the costumer has done in a session)\n",
    "\n",
    "in order to measure if our baseline module are predicting correctly, one of the recommendations should have been clicked, added to chart or ordered in the y_test."
   ]
  },
  {
   "attachments": {},
   "cell_type": "markdown",
   "metadata": {},
   "source": [
    "For each session in the test data, your task it to predict the aid values for each type that occur after the last timestamp ts the test session. In other words, the test data contains sessions truncated by timestamp, and you are to predict what occurs after the point of truncation."
   ]
  },
  {
   "cell_type": "code",
   "execution_count": null,
   "metadata": {},
   "outputs": [],
   "source": [
    "df_train"
   ]
  },
  {
   "cell_type": "code",
   "execution_count": null,
   "metadata": {},
   "outputs": [],
   "source": [
    "sample_df"
   ]
  },
  {
   "cell_type": "code",
   "execution_count": null,
   "metadata": {},
   "outputs": [],
   "source": [
    "\"\"\"\n",
    "# To do\n",
    "# create another loop to go through the rows\n",
    "# inside the loop, for every session: calculate the recall and add it in a new column to the row\n",
    "\n",
    "#idea: get the length of the session (number of dicts) and then only chose the last 50% for test data\n",
    "\n",
    "# start with a loop, three empty lists, each session will be filled into the three lists, save the results into new columns, then empty the lists for the next iteration\n",
    "\n",
    "# question: for the whole test data, is there a different way than looping?\n",
    "\n",
    "# Creating test data\n",
    "test_clicks = []\n",
    "test_carts = []\n",
    "test_orders = []\n",
    "\n",
    "# looping through one session (JSON-format) and appending the aid to lists for each type\n",
    "for dictionary in sample_df[\"events\"][14]:\n",
    "    data = dictionary\n",
    "    for key, value in data.items():\n",
    "     if value == \"clicks\":\n",
    "        test_clicks.append(data[\"aid\"])\n",
    "\n",
    "     if value == \"carts\":\n",
    "        test_carts.append(data[\"aid\"])   \n",
    "     if value == \"orders\":\n",
    "        test_orders.append(data[\"aid\"])\n",
    "print(test_clicks, test_orders)\n",
    "\"\"\""
   ]
  },
  {
   "cell_type": "code",
   "execution_count": null,
   "metadata": {},
   "outputs": [],
   "source": [
    "# To do\n",
    "# create another loop to go through the rows\n",
    "# inside the loop, for every session: calculate the recall and add it in a new column to the row\n",
    "\n",
    "#idea: get the length of the session (number of dicts) and then only chose the last 50% for test data\n",
    "\n",
    "# start with a loop, three empty lists, each session will be filled into the three lists, save the results into new columns, then empty the lists for the next iteration\n",
    "\n",
    "# question: for the whole test data, is there a different way than looping?\n",
    "\n",
    "# create a new dataframe and add columns for the test data\n",
    "sample_test_df = sample_df.copy()\n",
    "\n",
    "sample_test_df[\"test_clicks\"] = [[] for i in range(len(sample_test_df))]\n",
    "sample_test_df[\"test_carts\"] = [[] for i in range(len(sample_test_df))]\n",
    "sample_test_df[\"test_orders\"] = [[] for i in range(len(sample_test_df))]\n",
    "\n",
    "\n",
    "# loop through the dataframe (150 sessions).\n",
    "# starting from the second half of a session (JSON format) : grab each event, check the type \n",
    "# and put it into the according column of test-data.\n",
    "\n",
    "i = 0\n",
    "for row in sample_test_df[\"events\"]:\n",
    "   length = len(row)\n",
    "   for session in row[int(length/2):]:\n",
    "      for key, value in session.items():\n",
    "         if value == \"clicks\":\n",
    "            sample_test_df[\"test_clicks\"][i].append(session[\"aid\"])\n",
    "         if value == \"carts\": \n",
    "            sample_test_df[\"test_carts\"][i].append(session[\"aid\"])\n",
    "         if value == \"orders\":\n",
    "            sample_test_df[\"test_orders\"][i].append(session[\"aid\"])\n",
    "      \n",
    "   i += 1\n",
    "\n",
    "\n"
   ]
  },
  {
   "cell_type": "code",
   "execution_count": null,
   "metadata": {},
   "outputs": [],
   "source": [
    "sample_test_df"
   ]
  },
  {
   "cell_type": "code",
   "execution_count": null,
   "metadata": {},
   "outputs": [],
   "source": [
    "# modelling:\n",
    "# idea: for the first product, start with most popular products as recommendations\n",
    "# then take each product as an input for predicting the next one\n",
    "# for the first 3 (?) products, mix most popular and related recommendations\n",
    "# after that give only related recommendations\n",
    "# try different versions (different mix of recommendations)"
   ]
  },
  {
   "cell_type": "code",
   "execution_count": null,
   "metadata": {},
   "outputs": [],
   "source": [
    "#calculate recall\n",
    "# this function takes six lists to calculate the recall for one session.\n",
    "# three lists with predicted aid and three lists with true aid.\n",
    "# to calculate the recall for each type, we will check the intersection of two sets, \n",
    "# predicted aid and true aid. If one of our predictions is true, the recall will be one.\n",
    "r_total = []\n",
    "\n",
    "def calc_recall(pred_clicks, pred_carts, pred_orders, test_clicks, test_carts, test_orders):\n",
    "    # first calculate the recall for each type of prediction\n",
    "    if set(pred_clicks).intersection(set(test_clicks)):\n",
    "        r_click = 1\n",
    "    else:\n",
    "        r_click = 0\n",
    "    if set(pred_carts).intersection(set(test_carts)):\n",
    "        r_carts = 1\n",
    "    else:\n",
    "        r_carts = 0\n",
    "    if set(pred_orders).intersection(set(test_orders)):\n",
    "        r_order = 1\n",
    "    else:\n",
    "        r_order = 0\n",
    "    \n",
    "    # returning the total recall as a weighted sum of the individual recalls\n",
    "    r_session = 0.1*r_click + 0.3*r_carts + 0.6*r_order\n",
    "\n",
    "    r_total.append(r_session)\n",
    "    \n"
   ]
  },
  {
   "cell_type": "code",
   "execution_count": 40,
   "metadata": {},
   "outputs": [
    {
     "ename": "NameError",
     "evalue": "name 'sample_test_df' is not defined",
     "output_type": "error",
     "traceback": [
      "\u001b[0;31m---------------------------------------------------------------------------\u001b[0m",
      "\u001b[0;31mNameError\u001b[0m                                 Traceback (most recent call last)",
      "Cell \u001b[0;32mIn[40], line 4\u001b[0m\n\u001b[1;32m      1\u001b[0m \u001b[39m# Calculate the recall for every session, using the top 20 aid of this type as predictions.\u001b[39;00m\n\u001b[1;32m      2\u001b[0m \u001b[39m# the calc_recall function calculates the weighted sum of recall for a session and then appends it to the list r_total\u001b[39;00m\n\u001b[0;32m----> 4\u001b[0m \u001b[39mfor\u001b[39;00m j \u001b[39min\u001b[39;00m \u001b[39mrange\u001b[39m(\u001b[39mlen\u001b[39m(sample_test_df)):\n\u001b[1;32m      5\u001b[0m     calc_recall(top_click_article, top_carts_article, top_order_article, sample_test_df[\u001b[39m\"\u001b[39m\u001b[39mtest_clicks\u001b[39m\u001b[39m\"\u001b[39m][j],sample_test_df[\u001b[39m\"\u001b[39m\u001b[39mtest_carts\u001b[39m\u001b[39m\"\u001b[39m][j],sample_test_df[\u001b[39m\"\u001b[39m\u001b[39mtest_orders\u001b[39m\u001b[39m\"\u001b[39m][j])\n\u001b[1;32m      7\u001b[0m \u001b[39m# the final result is the sum of recalls in r_total divided by the length of r_total   \u001b[39;00m\n",
      "\u001b[0;31mNameError\u001b[0m: name 'sample_test_df' is not defined"
     ]
    }
   ],
   "source": [
    "# Calculate the recall for every session, using the top 20 aid of this type as predictions.\n",
    "# the calc_recall function calculates the weighted sum of recall for a session and then appends it to the list r_total\n",
    "\n",
    "for j in range(len(sample_test_df)):\n",
    "    calc_recall(top_click_article, top_carts_article, top_order_article, sample_test_df[\"test_clicks\"][j],sample_test_df[\"test_carts\"][j],sample_test_df[\"test_orders\"][j])\n",
    "    \n",
    "# the final result is the sum of recalls in r_total divided by the length of r_total   \n",
    "result = sum(r_total)/len(r_total)\n",
    "print(result)"
   ]
  },
  {
   "cell_type": "code",
   "execution_count": 42,
   "metadata": {},
   "outputs": [],
   "source": [
    "submission = pd.read_csv(\"../data/sample_submission.csv\")"
   ]
  },
  {
   "cell_type": "code",
   "execution_count": 45,
   "metadata": {},
   "outputs": [
    {
     "data": {
      "text/html": [
       "<div>\n",
       "<style scoped>\n",
       "    .dataframe tbody tr th:only-of-type {\n",
       "        vertical-align: middle;\n",
       "    }\n",
       "\n",
       "    .dataframe tbody tr th {\n",
       "        vertical-align: top;\n",
       "    }\n",
       "\n",
       "    .dataframe thead th {\n",
       "        text-align: right;\n",
       "    }\n",
       "</style>\n",
       "<table border=\"1\" class=\"dataframe\">\n",
       "  <thead>\n",
       "    <tr style=\"text-align: right;\">\n",
       "      <th></th>\n",
       "      <th>session_type</th>\n",
       "      <th>labels</th>\n",
       "    </tr>\n",
       "  </thead>\n",
       "  <tbody>\n",
       "    <tr>\n",
       "      <th>0</th>\n",
       "      <td>12899779_clicks</td>\n",
       "      <td>129004 126836 118524</td>\n",
       "    </tr>\n",
       "    <tr>\n",
       "      <th>1</th>\n",
       "      <td>12899779_carts</td>\n",
       "      <td>129004 126836 118524</td>\n",
       "    </tr>\n",
       "    <tr>\n",
       "      <th>2</th>\n",
       "      <td>12899779_orders</td>\n",
       "      <td>129004 126836 118524</td>\n",
       "    </tr>\n",
       "    <tr>\n",
       "      <th>3</th>\n",
       "      <td>12899780_clicks</td>\n",
       "      <td>129004 126836 118524</td>\n",
       "    </tr>\n",
       "    <tr>\n",
       "      <th>4</th>\n",
       "      <td>12899780_carts</td>\n",
       "      <td>129004 126836 118524</td>\n",
       "    </tr>\n",
       "  </tbody>\n",
       "</table>\n",
       "</div>"
      ],
      "text/plain": [
       "      session_type                labels\n",
       "0  12899779_clicks  129004 126836 118524\n",
       "1   12899779_carts  129004 126836 118524\n",
       "2  12899779_orders  129004 126836 118524\n",
       "3  12899780_clicks  129004 126836 118524\n",
       "4   12899780_carts  129004 126836 118524"
      ]
     },
     "execution_count": 45,
     "metadata": {},
     "output_type": "execute_result"
    }
   ],
   "source": [
    "submission.head()"
   ]
  },
  {
   "cell_type": "code",
   "execution_count": 50,
   "metadata": {},
   "outputs": [],
   "source": [
    "submission['labels'] = submission['labels'].apply(lambda x: top_click_article )\n"
   ]
  },
  {
   "cell_type": "code",
   "execution_count": 51,
   "metadata": {},
   "outputs": [
    {
     "data": {
      "text/html": [
       "<div>\n",
       "<style scoped>\n",
       "    .dataframe tbody tr th:only-of-type {\n",
       "        vertical-align: middle;\n",
       "    }\n",
       "\n",
       "    .dataframe tbody tr th {\n",
       "        vertical-align: top;\n",
       "    }\n",
       "\n",
       "    .dataframe thead th {\n",
       "        text-align: right;\n",
       "    }\n",
       "</style>\n",
       "<table border=\"1\" class=\"dataframe\">\n",
       "  <thead>\n",
       "    <tr style=\"text-align: right;\">\n",
       "      <th></th>\n",
       "      <th>session_type</th>\n",
       "      <th>labels</th>\n",
       "    </tr>\n",
       "  </thead>\n",
       "  <tbody>\n",
       "    <tr>\n",
       "      <th>0</th>\n",
       "      <td>12899779_clicks</td>\n",
       "      <td>[1460571, 108125, 29735, 485256, 1733943, 1849...</td>\n",
       "    </tr>\n",
       "    <tr>\n",
       "      <th>1</th>\n",
       "      <td>12899779_carts</td>\n",
       "      <td>[1460571, 108125, 29735, 485256, 1733943, 1849...</td>\n",
       "    </tr>\n",
       "    <tr>\n",
       "      <th>2</th>\n",
       "      <td>12899779_orders</td>\n",
       "      <td>[1460571, 108125, 29735, 485256, 1733943, 1849...</td>\n",
       "    </tr>\n",
       "    <tr>\n",
       "      <th>3</th>\n",
       "      <td>12899780_clicks</td>\n",
       "      <td>[1460571, 108125, 29735, 485256, 1733943, 1849...</td>\n",
       "    </tr>\n",
       "    <tr>\n",
       "      <th>4</th>\n",
       "      <td>12899780_carts</td>\n",
       "      <td>[1460571, 108125, 29735, 485256, 1733943, 1849...</td>\n",
       "    </tr>\n",
       "  </tbody>\n",
       "</table>\n",
       "</div>"
      ],
      "text/plain": [
       "      session_type                                             labels\n",
       "0  12899779_clicks  [1460571, 108125, 29735, 485256, 1733943, 1849...\n",
       "1   12899779_carts  [1460571, 108125, 29735, 485256, 1733943, 1849...\n",
       "2  12899779_orders  [1460571, 108125, 29735, 485256, 1733943, 1849...\n",
       "3  12899780_clicks  [1460571, 108125, 29735, 485256, 1733943, 1849...\n",
       "4   12899780_carts  [1460571, 108125, 29735, 485256, 1733943, 1849..."
      ]
     },
     "execution_count": 51,
     "metadata": {},
     "output_type": "execute_result"
    }
   ],
   "source": [
    "submission.head()"
   ]
  },
  {
   "cell_type": "code",
   "execution_count": 66,
   "metadata": {},
   "outputs": [],
   "source": [
    "top_clicks_submission = ' '.join(str(i) for i in top_click_article)\n",
    "top_carts_submission = ' '.join(str(i) for i in top_carts_article)\n",
    "top_order_submission = ' '.join(str(i) for i in top_order_article)\n"
   ]
  },
  {
   "cell_type": "code",
   "execution_count": 67,
   "metadata": {},
   "outputs": [],
   "source": [
    "def check_type(x):\n",
    "    if \"click\" in x:\n",
    "        return top_clicks_submission\n",
    "    elif \"carts\" in x:\n",
    "        return top_carts_submission\n",
    "    else:\n",
    "        return top_order_submission"
   ]
  },
  {
   "cell_type": "code",
   "execution_count": 68,
   "metadata": {},
   "outputs": [],
   "source": [
    "submission['labels'] = submission['session_type'].apply(check_type )"
   ]
  },
  {
   "cell_type": "code",
   "execution_count": 69,
   "metadata": {},
   "outputs": [
    {
     "data": {
      "text/html": [
       "<div>\n",
       "<style scoped>\n",
       "    .dataframe tbody tr th:only-of-type {\n",
       "        vertical-align: middle;\n",
       "    }\n",
       "\n",
       "    .dataframe tbody tr th {\n",
       "        vertical-align: top;\n",
       "    }\n",
       "\n",
       "    .dataframe thead th {\n",
       "        text-align: right;\n",
       "    }\n",
       "</style>\n",
       "<table border=\"1\" class=\"dataframe\">\n",
       "  <thead>\n",
       "    <tr style=\"text-align: right;\">\n",
       "      <th></th>\n",
       "      <th>session_type</th>\n",
       "      <th>labels</th>\n",
       "    </tr>\n",
       "  </thead>\n",
       "  <tbody>\n",
       "    <tr>\n",
       "      <th>0</th>\n",
       "      <td>12899779_clicks</td>\n",
       "      <td>1460571 108125 29735 485256 1733943 184976 832...</td>\n",
       "    </tr>\n",
       "    <tr>\n",
       "      <th>1</th>\n",
       "      <td>12899779_carts</td>\n",
       "      <td>485256 152547 33343 166037 1733943 231487 2973...</td>\n",
       "    </tr>\n",
       "    <tr>\n",
       "      <th>2</th>\n",
       "      <td>12899779_orders</td>\n",
       "      <td>231487 166037 1733943 1445562 1022566 801774 1...</td>\n",
       "    </tr>\n",
       "    <tr>\n",
       "      <th>3</th>\n",
       "      <td>12899780_clicks</td>\n",
       "      <td>1460571 108125 29735 485256 1733943 184976 832...</td>\n",
       "    </tr>\n",
       "    <tr>\n",
       "      <th>4</th>\n",
       "      <td>12899780_carts</td>\n",
       "      <td>485256 152547 33343 166037 1733943 231487 2973...</td>\n",
       "    </tr>\n",
       "  </tbody>\n",
       "</table>\n",
       "</div>"
      ],
      "text/plain": [
       "      session_type                                             labels\n",
       "0  12899779_clicks  1460571 108125 29735 485256 1733943 184976 832...\n",
       "1   12899779_carts  485256 152547 33343 166037 1733943 231487 2973...\n",
       "2  12899779_orders  231487 166037 1733943 1445562 1022566 801774 1...\n",
       "3  12899780_clicks  1460571 108125 29735 485256 1733943 184976 832...\n",
       "4   12899780_carts  485256 152547 33343 166037 1733943 231487 2973..."
      ]
     },
     "execution_count": 69,
     "metadata": {},
     "output_type": "execute_result"
    }
   ],
   "source": [
    "submission.head()"
   ]
  },
  {
   "cell_type": "code",
   "execution_count": 70,
   "metadata": {},
   "outputs": [],
   "source": [
    "submission.to_csv('submission.csv', index=False)"
   ]
  }
 ],
 "metadata": {
  "kernelspec": {
   "display_name": ".venv",
   "language": "python",
   "name": "python3"
  },
  "language_info": {
   "codemirror_mode": {
    "name": "ipython",
    "version": 3
   },
   "file_extension": ".py",
   "mimetype": "text/x-python",
   "name": "python",
   "nbconvert_exporter": "python",
   "pygments_lexer": "ipython3",
   "version": "3.9.8"
  },
  "orig_nbformat": 4,
  "vscode": {
   "interpreter": {
    "hash": "edfeea400d81ca3feef2d2b2500044129aae7aa2fb1143256c7581b461022992"
   }
  }
 },
 "nbformat": 4,
 "nbformat_minor": 2
}

{
 "cells": [
  {
   "attachments": {},
   "cell_type": "markdown",
   "metadata": {},
   "source": [
    "# Baseline Model 2\n",
    "### Taking the last 20 actions as recommendations\n",
    "### Kaggle Recall 0,46409"
   ]
  },
  {
   "attachments": {},
   "cell_type": "markdown",
   "metadata": {},
   "source": [
    "### 1. Setup"
   ]
  },
  {
   "cell_type": "code",
   "execution_count": null,
   "metadata": {},
   "outputs": [],
   "source": [
    "! pip install tqdm"
   ]
  },
  {
   "cell_type": "code",
   "execution_count": 2,
   "metadata": {},
   "outputs": [],
   "source": [
    "import polars as pl\n",
    "import pandas as pd\n",
    "from tqdm import tqdm"
   ]
  },
  {
   "cell_type": "code",
   "execution_count": 10,
   "metadata": {},
   "outputs": [],
   "source": [
    "### Try to speed up process - did not work ###\n",
    "#pip install -r requirements.txt --use-pep517\n",
    "#! pip install cudf\n",
    "# RAPIDS\n",
    "#import cudf\n",
    "#train = cudf.read_parquet(\"train.parquet\")\n",
    "#test = cudf.read_parquet(\"test.parquet\")"
   ]
  },
  {
   "cell_type": "code",
   "execution_count": 3,
   "metadata": {},
   "outputs": [],
   "source": [
    "# loading data\n",
    "#train = pl.read_parquet('../data/train.parquet')\n",
    "test = pl.read_parquet('../data/test.parquet')"
   ]
  },
  {
   "cell_type": "code",
   "execution_count": 4,
   "metadata": {},
   "outputs": [
    {
     "name": "stdout",
     "output_type": "stream",
     "text": [
      "Test shape (6928123, 4) \n"
     ]
    }
   ],
   "source": [
    "print(f\"Test shape {test.shape} \")"
   ]
  },
  {
   "attachments": {},
   "cell_type": "markdown",
   "metadata": {},
   "source": [
    "### 2. Taking the last 20 sessions"
   ]
  },
  {
   "cell_type": "code",
   "execution_count": 5,
   "metadata": {},
   "outputs": [],
   "source": [
    "# taking all aids per session in the test set and predicting them as next steps\n",
    "test_sess_aids = test.to_pandas().groupby('session')['aid'].apply(lambda x: list(x)[-20:])"
   ]
  },
  {
   "cell_type": "code",
   "execution_count": 6,
   "metadata": {},
   "outputs": [
    {
     "data": {
      "text/plain": [
       "session\n",
       "12899779                                              [59625]\n",
       "12899780           [1142000, 582732, 973453, 736515, 1142000]\n",
       "12899781    [141736, 199008, 57315, 194067, 199008, 199008...\n",
       "12899782    [889671, 1099390, 987399, 987399, 638410, 1072...\n",
       "12899783    [255297, 1114789, 255297, 300127, 198385, 3001...\n",
       "Name: aid, dtype: object"
      ]
     },
     "execution_count": 6,
     "metadata": {},
     "output_type": "execute_result"
    }
   ],
   "source": [
    "# have a look\n",
    "test_sess_aids.head(5)"
   ]
  },
  {
   "cell_type": "code",
   "execution_count": 7,
   "metadata": {},
   "outputs": [
    {
     "name": "stderr",
     "output_type": "stream",
     "text": [
      "1671803it [00:03, 456334.64it/s]\n"
     ]
    }
   ],
   "source": [
    "# creating labels\n",
    "session_types = ['clicks', 'carts', 'orders']\n",
    "labels_last = []\n",
    "\n",
    "for _, aids in tqdm(test_sess_aids.iteritems()):\n",
    "    for types in session_types:\n",
    "        labels_last.append(' '.join([str(a) for a in aids]))"
   ]
  },
  {
   "cell_type": "code",
   "execution_count": 8,
   "metadata": {},
   "outputs": [],
   "source": [
    "# have a look\n",
    "#labels_last"
   ]
  },
  {
   "attachments": {},
   "cell_type": "markdown",
   "metadata": {},
   "source": [
    "### 3. Load the sample submission csv file"
   ]
  },
  {
   "cell_type": "code",
   "execution_count": 9,
   "metadata": {},
   "outputs": [
    {
     "data": {
      "text/html": [
       "<div>\n",
       "<style scoped>\n",
       "    .dataframe tbody tr th:only-of-type {\n",
       "        vertical-align: middle;\n",
       "    }\n",
       "\n",
       "    .dataframe tbody tr th {\n",
       "        vertical-align: top;\n",
       "    }\n",
       "\n",
       "    .dataframe thead th {\n",
       "        text-align: right;\n",
       "    }\n",
       "</style>\n",
       "<table border=\"1\" class=\"dataframe\">\n",
       "  <thead>\n",
       "    <tr style=\"text-align: right;\">\n",
       "      <th></th>\n",
       "      <th>session_type</th>\n",
       "      <th>labels</th>\n",
       "    </tr>\n",
       "  </thead>\n",
       "  <tbody>\n",
       "    <tr>\n",
       "      <th>0</th>\n",
       "      <td>12899779_clicks</td>\n",
       "      <td>129004 126836 118524</td>\n",
       "    </tr>\n",
       "    <tr>\n",
       "      <th>1</th>\n",
       "      <td>12899779_carts</td>\n",
       "      <td>129004 126836 118524</td>\n",
       "    </tr>\n",
       "    <tr>\n",
       "      <th>2</th>\n",
       "      <td>12899779_orders</td>\n",
       "      <td>129004 126836 118524</td>\n",
       "    </tr>\n",
       "    <tr>\n",
       "      <th>3</th>\n",
       "      <td>12899780_clicks</td>\n",
       "      <td>129004 126836 118524</td>\n",
       "    </tr>\n",
       "    <tr>\n",
       "      <th>4</th>\n",
       "      <td>12899780_carts</td>\n",
       "      <td>129004 126836 118524</td>\n",
       "    </tr>\n",
       "  </tbody>\n",
       "</table>\n",
       "</div>"
      ],
      "text/plain": [
       "      session_type                labels\n",
       "0  12899779_clicks  129004 126836 118524\n",
       "1   12899779_carts  129004 126836 118524\n",
       "2  12899779_orders  129004 126836 118524\n",
       "3  12899780_clicks  129004 126836 118524\n",
       "4   12899780_carts  129004 126836 118524"
      ]
     },
     "execution_count": 9,
     "metadata": {},
     "output_type": "execute_result"
    }
   ],
   "source": [
    "# loading Sample Submission\n",
    "sample_submission = pd.read_csv(\"../data/sample_submission.csv\")\n",
    "sample_submission.head()"
   ]
  },
  {
   "attachments": {},
   "cell_type": "markdown",
   "metadata": {},
   "source": [
    "### 4. Exchange the labels and save"
   ]
  },
  {
   "cell_type": "code",
   "execution_count": 10,
   "metadata": {},
   "outputs": [],
   "source": [
    "# Make the submission\n",
    "sample_submission[\"labels\"] = labels_last\n",
    "sample_submission.to_csv(\"../data/submission_last_20.csv\", index=False)"
   ]
  },
  {
   "attachments": {},
   "cell_type": "markdown",
   "metadata": {},
   "source": [
    "### 5. Submitting to Kaggle\n",
    "Recall of 0.46409"
   ]
  },
  {
   "attachments": {},
   "cell_type": "markdown",
   "metadata": {},
   "source": [
    "Inspiration:\n",
    "https://www.kaggle.com/code/andradaolteanu/otto-i-was-warned-this-one-is-complicated"
   ]
  }
 ],
 "metadata": {
  "kernelspec": {
   "display_name": ".venv",
   "language": "python",
   "name": "python3"
  },
  "language_info": {
   "codemirror_mode": {
    "name": "ipython",
    "version": 3
   },
   "file_extension": ".py",
   "mimetype": "text/x-python",
   "name": "python",
   "nbconvert_exporter": "python",
   "pygments_lexer": "ipython3",
   "version": "3.9.8"
  },
  "orig_nbformat": 4,
  "vscode": {
   "interpreter": {
    "hash": "99169b0cb5d321d6fb0ce25e5504806b606e9657bf5f7b4805e5c55fc65e7301"
   }
  }
 },
 "nbformat": 4,
 "nbformat_minor": 2
}

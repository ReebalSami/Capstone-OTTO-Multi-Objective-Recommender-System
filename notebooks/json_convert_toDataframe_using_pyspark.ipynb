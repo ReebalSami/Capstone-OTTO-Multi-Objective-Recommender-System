{
 "cells": [
  {
   "cell_type": "code",
   "execution_count": 1,
   "id": "1b997ddb",
   "metadata": {},
   "outputs": [
    {
     "name": "stdout",
     "output_type": "stream",
     "text": [
      "Requirement already satisfied: pyspark in /Users/abderrahmen/.pyenv/versions/3.9.8/lib/python3.9/site-packages (3.3.1)\n",
      "Requirement already satisfied: py4j==0.10.9.5 in /Users/abderrahmen/.pyenv/versions/3.9.8/lib/python3.9/site-packages (from pyspark) (0.10.9.5)\n",
      "\u001b[33mWARNING: You are using pip version 21.2.4; however, version 22.3.1 is available.\n",
      "You should consider upgrading via the '/Users/abderrahmen/.pyenv/versions/3.9.8/bin/python3.9 -m pip install --upgrade pip' command.\u001b[0m\n"
     ]
    }
   ],
   "source": [
    "!pip install pyspark"
   ]
  },
  {
   "cell_type": "code",
   "execution_count": 22,
   "id": "8af101a9",
   "metadata": {},
   "outputs": [],
   "source": [
    "# !pip install pyspark"
   ]
  },
  {
   "cell_type": "markdown",
   "id": "a6cbd0b9",
   "metadata": {},
   "source": [
    "#### Import libraries"
   ]
  },
  {
   "cell_type": "code",
   "execution_count": 23,
   "id": "8428709b",
   "metadata": {},
   "outputs": [],
   "source": [
    "import numpy  as np # linear algebra\n",
    "import pandas as pd # data processing, CSV file I/O (e.g. pd.read_csv)\n",
    "\n",
    "from pyspark.sql import SparkSession, functions as f, DataFrame"
   ]
  },
  {
   "cell_type": "markdown",
   "id": "7e0bef83",
   "metadata": {},
   "source": [
    "#### Create Spark session"
   ]
  },
  {
   "cell_type": "code",
   "execution_count": 24,
   "id": "7272b13c",
   "metadata": {},
   "outputs": [],
   "source": [
    "# Create a SparkSession\n",
    "spark = SparkSession.builder.getOrCreate()"
   ]
  },
  {
   "cell_type": "code",
   "execution_count": 25,
   "id": "52b46e43",
   "metadata": {},
   "outputs": [],
   "source": [
    "spark.conf.set(\"spark.sql.session.timeZone\", \"UTC\")"
   ]
  },
  {
   "cell_type": "markdown",
   "id": "7dfa388f",
   "metadata": {},
   "source": [
    "#### Import functions\n",
    ".. for data pre-processing"
   ]
  },
  {
   "cell_type": "code",
   "execution_count": 26,
   "id": "af151229",
   "metadata": {},
   "outputs": [],
   "source": [
    "def f_load_data_into_pyspark_df(file_path: str, sample_size: int = None) -> DataFrame:\n",
    "    \"\"\"\n",
    "    Reads-in the `jsonl` file from `file_path` and converts it into a tabular PySpark dataframe format\n",
    "    \n",
    "    :param file_path: str Filepath string to the train or test set to read\n",
    "    :param sample_size: int The number of rows to read-in\n",
    "    \"\"\"\n",
    "    \n",
    "    # Read the file into a dataframe\n",
    "    if sample_size == None:\n",
    "        df = spark.read.json(file_path, multiLine=False)\n",
    "    else:\n",
    "        df = spark.read.json(file_path, multiLine=False).limit(sample_size)\n",
    "\n",
    "    # Extract the values of the \"events\" column into a new dataframe\n",
    "    extracted_values = df\\\n",
    "        .select(\"session\",f.explode(\"events\").alias(\"list\"))\\\n",
    "        .rdd\\\n",
    "        .flatMap(lambda x: [(x[0],x[1][0], x[1][1], x[1][2])])\n",
    "    \n",
    "    # Create a PySpark dataframe using the extracted values, and assign the column names as below:\n",
    "    new_df = spark.createDataFrame(extracted_values, [\"session\",\"aid\", \"ts\", \"type\"])\n",
    "\n",
    "    # 'ts' is in milliseconds. Convert to seconds by dividing by 1000. Then convert to datetime object.\n",
    "    new_df = new_df.withColumn(\"ts\", f.round(f.col('ts')/1000, 0))\n",
    "    new_df = new_df.withColumn(\"datetime\", f.from_unixtime(\"ts\", 'yyyy-MM-dd HH:mm:ss'))\n",
    "\n",
    "    # Select columns and sort by session and datetime\n",
    "    new_df = new_df\\\n",
    "        .select('session', 'datetime', 'aid', 'type')\\\n",
    "        .orderBy(['session', 'datetime'])\n",
    "\n",
    "    return new_df"
   ]
  },
  {
   "cell_type": "markdown",
   "id": "877a78c6",
   "metadata": {},
   "source": [
    "#### Extract pre-processed datasets as parquet"
   ]
  },
  {
   "cell_type": "code",
   "execution_count": 27,
   "id": "3d6b739b",
   "metadata": {},
   "outputs": [
    {
     "name": "stderr",
     "output_type": "stream",
     "text": [
      "[Stage 11:>                                                        (0 + 8) / 66]\r"
     ]
    },
    {
     "name": "stdout",
     "output_type": "stream",
     "text": [
      "23/01/24 16:09:29 WARN MemoryManager: Total allocation exceeds 95.00% (988,178,010 bytes) of heap memory\n",
      "Scaling row group sizes to 92.03% for 8 writers\n"
     ]
    },
    {
     "name": "stderr",
     "output_type": "stream",
     "text": [
      "\r",
      "[Stage 11:>                                                       (0 + 11) / 66]\r",
      "\r",
      "[Stage 11:======>                                                  (8 + 8) / 66]\r"
     ]
    },
    {
     "name": "stdout",
     "output_type": "stream",
     "text": [
      "23/01/24 16:09:43 WARN MemoryManager: Total allocation exceeds 95.00% (988,178,010 bytes) of heap memory\n",
      "Scaling row group sizes to 92.03% for 8 writers\n"
     ]
    },
    {
     "name": "stderr",
     "output_type": "stream",
     "text": [
      "\r",
      "[Stage 11:=======>                                                 (9 + 8) / 66]\r",
      "\r",
      "[Stage 11:=============>                                          (16 + 8) / 66]\r"
     ]
    },
    {
     "name": "stdout",
     "output_type": "stream",
     "text": [
      "23/01/24 16:09:53 WARN MemoryManager: Total allocation exceeds 95.00% (988,178,010 bytes) of heap memory\n",
      "Scaling row group sizes to 92.03% for 8 writers\n"
     ]
    },
    {
     "name": "stderr",
     "output_type": "stream",
     "text": [
      "\r",
      "[Stage 11:=============>                                          (16 + 9) / 66]\r",
      "\r",
      "[Stage 11:====================>                                   (24 + 8) / 66]\r"
     ]
    },
    {
     "name": "stdout",
     "output_type": "stream",
     "text": [
      "23/01/24 16:10:03 WARN MemoryManager: Total allocation exceeds 95.00% (988,178,010 bytes) of heap memory\n",
      "Scaling row group sizes to 92.03% for 8 writers\n"
     ]
    },
    {
     "name": "stderr",
     "output_type": "stream",
     "text": [
      "[Stage 11:===========================>                            (32 + 8) / 66]\r"
     ]
    },
    {
     "name": "stdout",
     "output_type": "stream",
     "text": [
      "23/01/24 16:10:14 WARN MemoryManager: Total allocation exceeds 95.00% (988,178,010 bytes) of heap memory\n",
      "Scaling row group sizes to 92.03% for 8 writers\n"
     ]
    },
    {
     "name": "stderr",
     "output_type": "stream",
     "text": [
      "[Stage 11:=================================>                      (40 + 8) / 66]\r"
     ]
    },
    {
     "name": "stdout",
     "output_type": "stream",
     "text": [
      "23/01/24 16:10:24 WARN MemoryManager: Total allocation exceeds 95.00% (988,178,010 bytes) of heap memory\n",
      "Scaling row group sizes to 92.03% for 8 writers\n"
     ]
    },
    {
     "name": "stderr",
     "output_type": "stream",
     "text": [
      "[Stage 11:========================================>               (48 + 8) / 66]\r"
     ]
    },
    {
     "name": "stdout",
     "output_type": "stream",
     "text": [
      "23/01/24 16:10:34 WARN MemoryManager: Total allocation exceeds 95.00% (988,178,010 bytes) of heap memory\n",
      "Scaling row group sizes to 92.03% for 8 writers\n"
     ]
    },
    {
     "name": "stderr",
     "output_type": "stream",
     "text": [
      "[Stage 11:===============================================>        (56 + 8) / 66]\r"
     ]
    },
    {
     "name": "stdout",
     "output_type": "stream",
     "text": [
      "23/01/24 16:10:47 WARN MemoryManager: Total allocation exceeds 95.00% (988,178,010 bytes) of heap memory\n",
      "Scaling row group sizes to 92.03% for 8 writers\n"
     ]
    },
    {
     "name": "stderr",
     "output_type": "stream",
     "text": [
      "                                                                                \r"
     ]
    },
    {
     "name": "stdout",
     "output_type": "stream",
     "text": [
      "CPU times: user 258 ms, sys: 646 ms, total: 904 ms\n",
      "Wall time: 24min 15s\n"
     ]
    }
   ],
   "source": [
    "%%time\n",
    "\n",
    "train = f_load_data_into_pyspark_df('train.jsonl')\n",
    "\n",
    "train.write.mode(\"overwrite\").parquet(\"train/\")"
   ]
  },
  {
   "cell_type": "code",
   "execution_count": 28,
   "id": "00b7ca98",
   "metadata": {},
   "outputs": [
    {
     "name": "stderr",
     "output_type": "stream",
     "text": [
      "[Stage 17:>                                                         (0 + 8) / 9]\r"
     ]
    },
    {
     "name": "stdout",
     "output_type": "stream",
     "text": [
      "23/01/24 16:11:58 WARN MemoryManager: Total allocation exceeds 95.00% (988,178,010 bytes) of heap memory\n",
      "Scaling row group sizes to 92.03% for 8 writers\n"
     ]
    },
    {
     "name": "stderr",
     "output_type": "stream",
     "text": [
      "\r",
      "[Stage 17:>                                                         (0 + 9) / 9]\r",
      "\r",
      "[Stage 17:===================================================>      (8 + 1) / 9]\r"
     ]
    },
    {
     "name": "stdout",
     "output_type": "stream",
     "text": [
      "CPU times: user 28.5 ms, sys: 53.9 ms, total: 82.4 ms\n",
      "Wall time: 1min 1s\n"
     ]
    },
    {
     "name": "stderr",
     "output_type": "stream",
     "text": [
      "\r",
      "                                                                                \r"
     ]
    }
   ],
   "source": [
    "%%time\n",
    "\n",
    "test = f_load_data_into_pyspark_df('test.jsonl')\n",
    "test.write.mode(\"overwrite\").parquet(\"test/\")"
   ]
  },
  {
   "cell_type": "markdown",
   "id": "93d1bf84",
   "metadata": {},
   "source": [
    "#### Read-in"
   ]
  },
  {
   "cell_type": "code",
   "execution_count": 29,
   "id": "c4c9466a",
   "metadata": {},
   "outputs": [
    {
     "name": "stderr",
     "output_type": "stream",
     "text": [
      "                                                                                \r"
     ]
    },
    {
     "name": "stdout",
     "output_type": "stream",
     "text": [
      "216,716,096, 4\n"
     ]
    },
    {
     "name": "stderr",
     "output_type": "stream",
     "text": [
      "                                                                                \r"
     ]
    },
    {
     "data": {
      "text/html": [
       "<div>\n",
       "<style scoped>\n",
       "    .dataframe tbody tr th:only-of-type {\n",
       "        vertical-align: middle;\n",
       "    }\n",
       "\n",
       "    .dataframe tbody tr th {\n",
       "        vertical-align: top;\n",
       "    }\n",
       "\n",
       "    .dataframe thead th {\n",
       "        text-align: right;\n",
       "    }\n",
       "</style>\n",
       "<table border=\"1\" class=\"dataframe\">\n",
       "  <thead>\n",
       "    <tr style=\"text-align: right;\">\n",
       "      <th></th>\n",
       "      <th>session</th>\n",
       "      <th>datetime</th>\n",
       "      <th>aid</th>\n",
       "      <th>type</th>\n",
       "    </tr>\n",
       "  </thead>\n",
       "  <tbody>\n",
       "    <tr>\n",
       "      <th>0</th>\n",
       "      <td>0</td>\n",
       "      <td>2022-07-31 22:00:00</td>\n",
       "      <td>1517085</td>\n",
       "      <td>clicks</td>\n",
       "    </tr>\n",
       "    <tr>\n",
       "      <th>1</th>\n",
       "      <td>0</td>\n",
       "      <td>2022-07-31 22:01:45</td>\n",
       "      <td>1563459</td>\n",
       "      <td>clicks</td>\n",
       "    </tr>\n",
       "    <tr>\n",
       "      <th>2</th>\n",
       "      <td>0</td>\n",
       "      <td>2022-08-01 15:23:59</td>\n",
       "      <td>1309446</td>\n",
       "      <td>clicks</td>\n",
       "    </tr>\n",
       "    <tr>\n",
       "      <th>3</th>\n",
       "      <td>0</td>\n",
       "      <td>2022-08-01 15:28:40</td>\n",
       "      <td>16246</td>\n",
       "      <td>clicks</td>\n",
       "    </tr>\n",
       "    <tr>\n",
       "      <th>4</th>\n",
       "      <td>0</td>\n",
       "      <td>2022-08-01 15:31:11</td>\n",
       "      <td>1781822</td>\n",
       "      <td>clicks</td>\n",
       "    </tr>\n",
       "    <tr>\n",
       "      <th>5</th>\n",
       "      <td>0</td>\n",
       "      <td>2022-08-01 15:31:26</td>\n",
       "      <td>1152674</td>\n",
       "      <td>clicks</td>\n",
       "    </tr>\n",
       "    <tr>\n",
       "      <th>6</th>\n",
       "      <td>0</td>\n",
       "      <td>2022-08-01 16:04:54</td>\n",
       "      <td>1649869</td>\n",
       "      <td>carts</td>\n",
       "    </tr>\n",
       "    <tr>\n",
       "      <th>7</th>\n",
       "      <td>0</td>\n",
       "      <td>2022-08-01 16:04:58</td>\n",
       "      <td>461689</td>\n",
       "      <td>carts</td>\n",
       "    </tr>\n",
       "    <tr>\n",
       "      <th>8</th>\n",
       "      <td>0</td>\n",
       "      <td>2022-08-01 16:07:07</td>\n",
       "      <td>461689</td>\n",
       "      <td>orders</td>\n",
       "    </tr>\n",
       "    <tr>\n",
       "      <th>9</th>\n",
       "      <td>0</td>\n",
       "      <td>2022-08-01 16:07:07</td>\n",
       "      <td>305831</td>\n",
       "      <td>orders</td>\n",
       "    </tr>\n",
       "  </tbody>\n",
       "</table>\n",
       "</div>"
      ],
      "text/plain": [
       "   session             datetime      aid    type\n",
       "0        0  2022-07-31 22:00:00  1517085  clicks\n",
       "1        0  2022-07-31 22:01:45  1563459  clicks\n",
       "2        0  2022-08-01 15:23:59  1309446  clicks\n",
       "3        0  2022-08-01 15:28:40    16246  clicks\n",
       "4        0  2022-08-01 15:31:11  1781822  clicks\n",
       "5        0  2022-08-01 15:31:26  1152674  clicks\n",
       "6        0  2022-08-01 16:04:54  1649869   carts\n",
       "7        0  2022-08-01 16:04:58   461689   carts\n",
       "8        0  2022-08-01 16:07:07   461689  orders\n",
       "9        0  2022-08-01 16:07:07   305831  orders"
      ]
     },
     "execution_count": 29,
     "metadata": {},
     "output_type": "execute_result"
    }
   ],
   "source": [
    "train_df = spark.read.parquet(\"train/\").orderBy(['session', 'datetime'])\n",
    "\n",
    "print(f\"{train_df.count():,}, {len(train_df.columns)}\")\n",
    "\n",
    "train_df.limit(10).toPandas()"
   ]
  },
  {
   "cell_type": "code",
   "execution_count": 30,
   "id": "05343a79",
   "metadata": {},
   "outputs": [
    {
     "name": "stdout",
     "output_type": "stream",
     "text": [
      "6,928,123, 4\n"
     ]
    },
    {
     "name": "stderr",
     "output_type": "stream",
     "text": [
      "                                                                                \r"
     ]
    },
    {
     "data": {
      "text/html": [
       "<div>\n",
       "<style scoped>\n",
       "    .dataframe tbody tr th:only-of-type {\n",
       "        vertical-align: middle;\n",
       "    }\n",
       "\n",
       "    .dataframe tbody tr th {\n",
       "        vertical-align: top;\n",
       "    }\n",
       "\n",
       "    .dataframe thead th {\n",
       "        text-align: right;\n",
       "    }\n",
       "</style>\n",
       "<table border=\"1\" class=\"dataframe\">\n",
       "  <thead>\n",
       "    <tr style=\"text-align: right;\">\n",
       "      <th></th>\n",
       "      <th>session</th>\n",
       "      <th>datetime</th>\n",
       "      <th>aid</th>\n",
       "      <th>type</th>\n",
       "    </tr>\n",
       "  </thead>\n",
       "  <tbody>\n",
       "    <tr>\n",
       "      <th>0</th>\n",
       "      <td>12899779</td>\n",
       "      <td>2022-08-28 22:00:00</td>\n",
       "      <td>59625</td>\n",
       "      <td>clicks</td>\n",
       "    </tr>\n",
       "    <tr>\n",
       "      <th>1</th>\n",
       "      <td>12899780</td>\n",
       "      <td>2022-08-28 22:00:00</td>\n",
       "      <td>1142000</td>\n",
       "      <td>clicks</td>\n",
       "    </tr>\n",
       "    <tr>\n",
       "      <th>2</th>\n",
       "      <td>12899780</td>\n",
       "      <td>2022-08-28 22:00:58</td>\n",
       "      <td>582732</td>\n",
       "      <td>clicks</td>\n",
       "    </tr>\n",
       "    <tr>\n",
       "      <th>3</th>\n",
       "      <td>12899780</td>\n",
       "      <td>2022-08-28 22:01:49</td>\n",
       "      <td>973453</td>\n",
       "      <td>clicks</td>\n",
       "    </tr>\n",
       "    <tr>\n",
       "      <th>4</th>\n",
       "      <td>12899780</td>\n",
       "      <td>2022-08-28 22:02:17</td>\n",
       "      <td>736515</td>\n",
       "      <td>clicks</td>\n",
       "    </tr>\n",
       "    <tr>\n",
       "      <th>5</th>\n",
       "      <td>12899780</td>\n",
       "      <td>2022-08-28 22:02:35</td>\n",
       "      <td>1142000</td>\n",
       "      <td>clicks</td>\n",
       "    </tr>\n",
       "    <tr>\n",
       "      <th>6</th>\n",
       "      <td>12899781</td>\n",
       "      <td>2022-08-28 22:00:01</td>\n",
       "      <td>141736</td>\n",
       "      <td>clicks</td>\n",
       "    </tr>\n",
       "    <tr>\n",
       "      <th>7</th>\n",
       "      <td>12899781</td>\n",
       "      <td>2022-08-28 22:00:23</td>\n",
       "      <td>199008</td>\n",
       "      <td>clicks</td>\n",
       "    </tr>\n",
       "    <tr>\n",
       "      <th>8</th>\n",
       "      <td>12899781</td>\n",
       "      <td>2022-08-28 22:02:51</td>\n",
       "      <td>57315</td>\n",
       "      <td>clicks</td>\n",
       "    </tr>\n",
       "    <tr>\n",
       "      <th>9</th>\n",
       "      <td>12899781</td>\n",
       "      <td>2022-08-28 22:04:06</td>\n",
       "      <td>194067</td>\n",
       "      <td>clicks</td>\n",
       "    </tr>\n",
       "  </tbody>\n",
       "</table>\n",
       "</div>"
      ],
      "text/plain": [
       "    session             datetime      aid    type\n",
       "0  12899779  2022-08-28 22:00:00    59625  clicks\n",
       "1  12899780  2022-08-28 22:00:00  1142000  clicks\n",
       "2  12899780  2022-08-28 22:00:58   582732  clicks\n",
       "3  12899780  2022-08-28 22:01:49   973453  clicks\n",
       "4  12899780  2022-08-28 22:02:17   736515  clicks\n",
       "5  12899780  2022-08-28 22:02:35  1142000  clicks\n",
       "6  12899781  2022-08-28 22:00:01   141736  clicks\n",
       "7  12899781  2022-08-28 22:00:23   199008  clicks\n",
       "8  12899781  2022-08-28 22:02:51    57315  clicks\n",
       "9  12899781  2022-08-28 22:04:06   194067  clicks"
      ]
     },
     "execution_count": 30,
     "metadata": {},
     "output_type": "execute_result"
    }
   ],
   "source": [
    "test_df = spark.read.parquet(\"test/\").orderBy(['session', 'datetime'])\n",
    "\n",
    "print(f\"{test_df.count():,}, {len(test_df.columns)}\")\n",
    "\n",
    "test_df.limit(10).toPandas()"
   ]
  }
 ],
 "metadata": {
  "kernelspec": {
   "display_name": "Python 3 (ipykernel)",
   "language": "python",
   "name": "python3"
  },
  "language_info": {
   "codemirror_mode": {
    "name": "ipython",
    "version": 3
   },
   "file_extension": ".py",
   "mimetype": "text/x-python",
   "name": "python",
   "nbconvert_exporter": "python",
   "pygments_lexer": "ipython3",
   "version": "3.9.8"
  }
 },
 "nbformat": 4,
 "nbformat_minor": 5
}

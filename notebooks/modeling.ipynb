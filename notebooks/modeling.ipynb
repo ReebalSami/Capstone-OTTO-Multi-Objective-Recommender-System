{
 "cells": [
  {
   "cell_type": "code",
   "execution_count": null,
   "metadata": {},
   "outputs": [],
   "source": []
  }
 ],
 "metadata": {
  "kernelspec": {
   "display_name": ".venv",
   "language": "python",
   "name": "python3"
  },
  "language_info": {
   "name": "python",
   "version": "3.9.8 (main, Nov 14 2022, 15:30:21) \n[Clang 14.0.0 (clang-1400.0.29.202)]"
  },
  "orig_nbformat": 4,
  "vscode": {
   "interpreter": {
    "hash": "360acb43446fba8ca899ac977f179740967a7b7c03e384545efc55acd2382d4e"
   }
  }
 },
 "nbformat": 4,
 "nbformat_minor": 2
}

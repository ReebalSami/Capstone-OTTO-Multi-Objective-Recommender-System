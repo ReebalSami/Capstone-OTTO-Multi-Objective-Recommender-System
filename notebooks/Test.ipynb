{
 "cells": [
  {
   "cell_type": "code",
   "execution_count": 1,
   "id": "a625114e",
   "metadata": {},
   "outputs": [],
   "source": [
    "import pandas as pd\n",
    "import numpy as np"
   ]
  },
  {
   "cell_type": "code",
   "execution_count": 6,
   "id": "bd3d1136",
   "metadata": {},
   "outputs": [
    {
     "data": {
      "text/html": [
       "<div>\n",
       "<style scoped>\n",
       "    .dataframe tbody tr th:only-of-type {\n",
       "        vertical-align: middle;\n",
       "    }\n",
       "\n",
       "    .dataframe tbody tr th {\n",
       "        vertical-align: top;\n",
       "    }\n",
       "\n",
       "    .dataframe thead th {\n",
       "        text-align: right;\n",
       "    }\n",
       "</style>\n",
       "<table border=\"1\" class=\"dataframe\">\n",
       "  <thead>\n",
       "    <tr style=\"text-align: right;\">\n",
       "      <th></th>\n",
       "      <th>session</th>\n",
       "      <th>events</th>\n",
       "    </tr>\n",
       "  </thead>\n",
       "  <tbody>\n",
       "    <tr>\n",
       "      <th>0</th>\n",
       "      <td>12899779</td>\n",
       "      <td>[{'aid': 59625, 'ts': 1661724000278, 'type': '...</td>\n",
       "    </tr>\n",
       "    <tr>\n",
       "      <th>1</th>\n",
       "      <td>12899780</td>\n",
       "      <td>[{'aid': 1142000, 'ts': 1661724000378, 'type':...</td>\n",
       "    </tr>\n",
       "    <tr>\n",
       "      <th>2</th>\n",
       "      <td>12899781</td>\n",
       "      <td>[{'aid': 141736, 'ts': 1661724000559, 'type': ...</td>\n",
       "    </tr>\n",
       "    <tr>\n",
       "      <th>3</th>\n",
       "      <td>12899782</td>\n",
       "      <td>[{'aid': 1669402, 'ts': 1661724000568, 'type':...</td>\n",
       "    </tr>\n",
       "    <tr>\n",
       "      <th>4</th>\n",
       "      <td>12899783</td>\n",
       "      <td>[{'aid': 255297, 'ts': 1661724000572, 'type': ...</td>\n",
       "    </tr>\n",
       "  </tbody>\n",
       "</table>\n",
       "</div>"
      ],
      "text/plain": [
       "    session                                             events\n",
       "0  12899779  [{'aid': 59625, 'ts': 1661724000278, 'type': '...\n",
       "1  12899780  [{'aid': 1142000, 'ts': 1661724000378, 'type':...\n",
       "2  12899781  [{'aid': 141736, 'ts': 1661724000559, 'type': ...\n",
       "3  12899782  [{'aid': 1669402, 'ts': 1661724000568, 'type':...\n",
       "4  12899783  [{'aid': 255297, 'ts': 1661724000572, 'type': ..."
      ]
     },
     "execution_count": 6,
     "metadata": {},
     "output_type": "execute_result"
    }
   ],
   "source": [
    "df = pd.read_json(\"test.jsonl\",lines=True)\n",
    "df.head()"
   ]
  },
  {
   "cell_type": "code",
   "execution_count": 13,
   "id": "a2cacb8b",
   "metadata": {},
   "outputs": [
    {
     "data": {
      "text/plain": [
       "1671803"
      ]
     },
     "execution_count": 13,
     "metadata": {},
     "output_type": "execute_result"
    }
   ],
   "source": [
    "df.session.nunique()"
   ]
  },
  {
   "cell_type": "code",
   "execution_count": 14,
   "id": "9c5c9983",
   "metadata": {},
   "outputs": [
    {
     "data": {
      "text/plain": [
       "[{'aid': 141736, 'ts': 1661724000559, 'type': 'clicks'},\n",
       " {'aid': 199008, 'ts': 1661724022851, 'type': 'clicks'},\n",
       " {'aid': 57315, 'ts': 1661724170835, 'type': 'clicks'},\n",
       " {'aid': 194067, 'ts': 1661724246188, 'type': 'clicks'},\n",
       " {'aid': 199008, 'ts': 1661780623778, 'type': 'clicks'},\n",
       " {'aid': 199008, 'ts': 1661781274081, 'type': 'clicks'},\n",
       " {'aid': 199008, 'ts': 1661781409993, 'type': 'carts'},\n",
       " {'aid': 199008, 'ts': 1661804151788, 'type': 'clicks'},\n",
       " {'aid': 199008, 'ts': 1662060028567, 'type': 'clicks'},\n",
       " {'aid': 199008, 'ts': 1662060064706, 'type': 'clicks'},\n",
       " {'aid': 918667, 'ts': 1662060160406, 'type': 'clicks'}]"
      ]
     },
     "execution_count": 14,
     "metadata": {},
     "output_type": "execute_result"
    }
   ],
   "source": [
    "df.events[2]"
   ]
  },
  {
   "cell_type": "code",
   "execution_count": 12,
   "id": "01511c6b",
   "metadata": {},
   "outputs": [
    {
     "data": {
      "text/plain": [
       "[{'aid': 1669402, 'ts': 1661724000568, 'type': 'clicks'},\n",
       " {'aid': 1494780, 'ts': 1661724163530, 'type': 'clicks'},\n",
       " {'aid': 1494780, 'ts': 1661724190624, 'type': 'clicks'},\n",
       " {'aid': 1494780, 'ts': 1661724203140, 'type': 'clicks'},\n",
       " {'aid': 1494780, 'ts': 1661724244341, 'type': 'carts'},\n",
       " {'aid': 1674681, 'ts': 1661724816749, 'type': 'clicks'},\n",
       " {'aid': 602722, 'ts': 1661724885670, 'type': 'clicks'},\n",
       " {'aid': 1596098, 'ts': 1661725306961, 'type': 'clicks'},\n",
       " {'aid': 45034, 'ts': 1661725434870, 'type': 'clicks'},\n",
       " {'aid': 603159, 'ts': 1661725567598, 'type': 'clicks'},\n",
       " {'aid': 413962, 'ts': 1661765601645, 'type': 'clicks'},\n",
       " {'aid': 413962, 'ts': 1661765608861, 'type': 'carts'},\n",
       " {'aid': 413962, 'ts': 1661765683962, 'type': 'clicks'},\n",
       " {'aid': 779477, 'ts': 1661765990636, 'type': 'clicks'},\n",
       " {'aid': 1037537, 'ts': 1661766045371, 'type': 'clicks'},\n",
       " {'aid': 779477, 'ts': 1661766058833, 'type': 'clicks'},\n",
       " {'aid': 779477, 'ts': 1661766162910, 'type': 'carts'},\n",
       " {'aid': 476063, 'ts': 1661766167646, 'type': 'clicks'},\n",
       " {'aid': 562753, 'ts': 1661766178974, 'type': 'carts'},\n",
       " {'aid': 779477, 'ts': 1661766181059, 'type': 'clicks'},\n",
       " {'aid': 562753, 'ts': 1661785953423, 'type': 'clicks'},\n",
       " {'aid': 476063, 'ts': 1661785989572, 'type': 'carts'},\n",
       " {'aid': 779477, 'ts': 1661785991473, 'type': 'clicks'},\n",
       " {'aid': 779477, 'ts': 1661786009326, 'type': 'carts'},\n",
       " {'aid': 562753, 'ts': 1661786014432, 'type': 'clicks'},\n",
       " {'aid': 779477, 'ts': 1661786017266, 'type': 'clicks'},\n",
       " {'aid': 476063, 'ts': 1661786024954, 'type': 'clicks'},\n",
       " {'aid': 975116, 'ts': 1661786059083, 'type': 'clicks'},\n",
       " {'aid': 975116, 'ts': 1661786078505, 'type': 'carts'},\n",
       " {'aid': 595994, 'ts': 1661786240200, 'type': 'clicks'},\n",
       " {'aid': 595994, 'ts': 1661786254403, 'type': 'carts'},\n",
       " {'aid': 595994, 'ts': 1661786284439, 'type': 'clicks'},\n",
       " {'aid': 1299062, 'ts': 1661786321468, 'type': 'clicks'},\n",
       " {'aid': 1352725, 'ts': 1661802752201, 'type': 'clicks'},\n",
       " {'aid': 1344773, 'ts': 1661802822218, 'type': 'clicks'},\n",
       " {'aid': 1344773, 'ts': 1661802836762, 'type': 'carts'},\n",
       " {'aid': 794259, 'ts': 1661802866448, 'type': 'clicks'},\n",
       " {'aid': 363336, 'ts': 1661802911345, 'type': 'clicks'},\n",
       " {'aid': 829180, 'ts': 1661802976266, 'type': 'clicks'},\n",
       " {'aid': 1711180, 'ts': 1661803002384, 'type': 'carts'},\n",
       " {'aid': 127404, 'ts': 1661803019431, 'type': 'carts'},\n",
       " {'aid': 654809, 'ts': 1661803139163, 'type': 'clicks'},\n",
       " {'aid': 723956, 'ts': 1661803162990, 'type': 'clicks'},\n",
       " {'aid': 476063, 'ts': 1661803267739, 'type': 'clicks'},\n",
       " {'aid': 975116, 'ts': 1661803282620, 'type': 'clicks'},\n",
       " {'aid': 406001, 'ts': 1661803489097, 'type': 'clicks'},\n",
       " {'aid': 889671, 'ts': 1661803500037, 'type': 'clicks'},\n",
       " {'aid': 889671, 'ts': 1661803510829, 'type': 'carts'},\n",
       " {'aid': 834354, 'ts': 1661803530264, 'type': 'clicks'},\n",
       " {'aid': 834354, 'ts': 1661803539038, 'type': 'carts'},\n",
       " {'aid': 889671, 'ts': 1661803545858, 'type': 'clicks'},\n",
       " {'aid': 1099390, 'ts': 1661803555960, 'type': 'clicks'},\n",
       " {'aid': 987399, 'ts': 1661803571124, 'type': 'clicks'},\n",
       " {'aid': 987399, 'ts': 1661803578438, 'type': 'carts'},\n",
       " {'aid': 638410, 'ts': 1661803600761, 'type': 'clicks'},\n",
       " {'aid': 1072927, 'ts': 1661803621612, 'type': 'clicks'},\n",
       " {'aid': 530899, 'ts': 1661803640817, 'type': 'clicks'},\n",
       " {'aid': 229748, 'ts': 1661803651343, 'type': 'clicks'},\n",
       " {'aid': 229748, 'ts': 1661803658101, 'type': 'clicks'},\n",
       " {'aid': 740494, 'ts': 1661803681480, 'type': 'clicks'},\n",
       " {'aid': 740494, 'ts': 1661803697626, 'type': 'carts'},\n",
       " {'aid': 834354, 'ts': 1661803710262, 'type': 'carts'},\n",
       " {'aid': 1669402, 'ts': 1661803953178, 'type': 'orders'},\n",
       " {'aid': 829180, 'ts': 1661803953178, 'type': 'orders'},\n",
       " {'aid': 1696036, 'ts': 1661803953178, 'type': 'orders'},\n",
       " {'aid': 479970, 'ts': 1661803953178, 'type': 'orders'},\n",
       " {'aid': 834354, 'ts': 1661803953178, 'type': 'orders'},\n",
       " {'aid': 1033148, 'ts': 1661803953178, 'type': 'orders'},\n",
       " {'aid': 595994, 'ts': 1661803953178, 'type': 'orders'},\n",
       " {'aid': 1007613, 'ts': 1661803953178, 'type': 'orders'}]"
      ]
     },
     "execution_count": 12,
     "metadata": {},
     "output_type": "execute_result"
    }
   ],
   "source": [
    "df.events[3]"
   ]
  },
  {
   "cell_type": "code",
   "execution_count": 17,
   "id": "c7c0abfc",
   "metadata": {},
   "outputs": [
    {
     "data": {
      "text/plain": [
       "[{'aid': 59625, 'ts': 1661724000278, 'type': 'clicks'}]"
      ]
     },
     "execution_count": 17,
     "metadata": {},
     "output_type": "execute_result"
    }
   ],
   "source": [
    "df.events[0]"
   ]
  },
  {
   "cell_type": "code",
   "execution_count": 18,
   "id": "26aa3860",
   "metadata": {},
   "outputs": [
    {
     "data": {
      "text/plain": [
       "list"
      ]
     },
     "execution_count": 18,
     "metadata": {},
     "output_type": "execute_result"
    }
   ],
   "source": [
    "type(df.events[0])"
   ]
  },
  {
   "cell_type": "code",
   "execution_count": 20,
   "id": "31486dff",
   "metadata": {},
   "outputs": [
    {
     "ename": "SyntaxError",
     "evalue": "invalid syntax (2464405561.py, line 1)",
     "output_type": "error",
     "traceback": [
      "\u001b[0;36m  Cell \u001b[0;32mIn[20], line 1\u001b[0;36m\u001b[0m\n\u001b[0;31m    df[len(df.event[])>1]\u001b[0m\n\u001b[0m                    ^\u001b[0m\n\u001b[0;31mSyntaxError\u001b[0m\u001b[0;31m:\u001b[0m invalid syntax\n"
     ]
    }
   ],
   "source": [
    "df[len(df.event[])>1]"
   ]
  },
  {
   "cell_type": "code",
   "execution_count": null,
   "id": "728e9b7c",
   "metadata": {},
   "outputs": [],
   "source": []
  }
 ],
 "metadata": {
  "kernelspec": {
   "display_name": "Python 3 (ipykernel)",
   "language": "python",
   "name": "python3"
  },
  "language_info": {
   "codemirror_mode": {
    "name": "ipython",
    "version": 3
   },
   "file_extension": ".py",
   "mimetype": "text/x-python",
   "name": "python",
   "nbconvert_exporter": "python",
   "pygments_lexer": "ipython3",
   "version": "3.9.8"
  }
 },
 "nbformat": 4,
 "nbformat_minor": 5
}

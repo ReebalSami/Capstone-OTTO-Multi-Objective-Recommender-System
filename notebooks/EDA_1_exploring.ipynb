{
 "cells": [
  {
   "attachments": {},
   "cell_type": "markdown",
   "metadata": {},
   "source": [
    "# EDA for the OTTO – Multi-Objective Recommender System"
   ]
  },
  {
   "attachments": {},
   "cell_type": "markdown",
   "metadata": {},
   "source": [
    "# Content\n",
    "1. Intro\n",
    "2. Setup\n",
    "3. Import of json and parquet files\n",
    "4. Shape of Datasets and features\n",
    "5. Exploring and plotting\n",
    "6. Cleaning?!"
   ]
  },
  {
   "attachments": {},
   "cell_type": "markdown",
   "metadata": {},
   "source": [
    "## 1. Intro\n",
    "\n",
    "Link to Competition: https://www.kaggle.com/competitions/otto-recommender-system/overview\n",
    "\n",
    "\"Goal of the Competition\n",
    "\n",
    "The goal of this competition is to predict e-commerce clicks, cart additions, and orders. You'll build a multi-objective recommender system based on previous events in a user session.\n",
    "\n",
    "Your work will help improve the shopping experience for everyone involved. Customers will receive more tailored recommendations while online retailers may increase their sales.\"\n",
    "\n",
    "\n",
    "### In this notebook we will explore the given dataset. Partly working with a fraction of the data to make it manageable.\n",
    "### Given the existing sessions we want to predict the clicks (CTR), add to card and orders (conversion).\n"
   ]
  },
  {
   "attachments": {},
   "cell_type": "markdown",
   "metadata": {},
   "source": [
    "## 2. Setup"
   ]
  },
  {
   "cell_type": "code",
   "execution_count": 1,
   "metadata": {},
   "outputs": [],
   "source": [
    "### Imports ###\n",
    "\n",
    "import pandas as pd\n",
    "import numpy as np\n",
    "import polars as pl\n",
    "\n",
    "from pathlib import Path\n",
    "import os\n",
    "import random\n",
    "import json\n",
    "from datetime import timedelta\n",
    "from collections import Counter\n",
    "from heapq import nlargest\n",
    "\n",
    "from matplotlib import dates\n",
    "import matplotlib.pyplot as plt\n",
    "import seaborn as sns\n",
    "sns.set_theme()\n",
    "\n",
    "import warnings\n",
    "warnings.filterwarnings('ignore')"
   ]
  },
  {
   "attachments": {},
   "cell_type": "markdown",
   "metadata": {},
   "source": [
    "## 3. Import of json and parquet files\n",
    "\n",
    "The otto challenge data is given as a json file. Here: https://www.kaggle.com/competitions/otto-recommender-system/data\n",
    "\n",
    "For faster processing, the json files can be converted to parquet files with the EDA_0_jason_to_parquet notebook (execution takes longer) \n",
    "or downloaded here: https://www.kaggle.com/datasets/radek1/otto-full-optimized-memory-footprint"
   ]
  },
  {
   "cell_type": "code",
   "execution_count": 2,
   "metadata": {},
   "outputs": [],
   "source": [
    "### importing the json files ###\n",
    "#train_j = pd.read_json('../data/train.jsonl', lines=True) # takes much time\n",
    "#test_j = pd.read_json('../data/test.jsonl', lines=True) # not used now"
   ]
  },
  {
   "cell_type": "code",
   "execution_count": 3,
   "metadata": {},
   "outputs": [
    {
     "name": "stdout",
     "output_type": "stream",
     "text": [
      "There are 12,899,779 lines in the training data\n"
     ]
    }
   ],
   "source": [
    "### Counting train dataset without loading ###\n",
    "\n",
    "with open('../data/train.jsonl', 'r') as f:\n",
    "    print(f\"There are {len(f.readlines()):,} lines in the training data\")\n",
    "\n",
    "# There are 12,899,779 lines in the training data"
   ]
  },
  {
   "cell_type": "code",
   "execution_count": 4,
   "metadata": {},
   "outputs": [],
   "source": [
    "### importing only 150.000 lines of the training data ###\n",
    "\n",
    "sample_size = 150000\n",
    "\n",
    "chunks = pd.read_json('../data/train.jsonl', lines=True, chunksize = sample_size)\n",
    "\n",
    "for c in chunks:\n",
    "    train_j_df = c\n",
    "    break"
   ]
  },
  {
   "cell_type": "code",
   "execution_count": 5,
   "metadata": {},
   "outputs": [
    {
     "data": {
      "text/html": [
       "<div>\n",
       "<style scoped>\n",
       "    .dataframe tbody tr th:only-of-type {\n",
       "        vertical-align: middle;\n",
       "    }\n",
       "\n",
       "    .dataframe tbody tr th {\n",
       "        vertical-align: top;\n",
       "    }\n",
       "\n",
       "    .dataframe thead th {\n",
       "        text-align: right;\n",
       "    }\n",
       "</style>\n",
       "<table border=\"1\" class=\"dataframe\">\n",
       "  <thead>\n",
       "    <tr style=\"text-align: right;\">\n",
       "      <th></th>\n",
       "      <th>events</th>\n",
       "    </tr>\n",
       "    <tr>\n",
       "      <th>session</th>\n",
       "      <th></th>\n",
       "    </tr>\n",
       "  </thead>\n",
       "  <tbody>\n",
       "    <tr>\n",
       "      <th>0</th>\n",
       "      <td>[{'aid': 1517085, 'ts': 1659304800025, 'type':...</td>\n",
       "    </tr>\n",
       "    <tr>\n",
       "      <th>1</th>\n",
       "      <td>[{'aid': 424964, 'ts': 1659304800025, 'type': ...</td>\n",
       "    </tr>\n",
       "    <tr>\n",
       "      <th>2</th>\n",
       "      <td>[{'aid': 763743, 'ts': 1659304800038, 'type': ...</td>\n",
       "    </tr>\n",
       "    <tr>\n",
       "      <th>3</th>\n",
       "      <td>[{'aid': 1425967, 'ts': 1659304800095, 'type':...</td>\n",
       "    </tr>\n",
       "    <tr>\n",
       "      <th>4</th>\n",
       "      <td>[{'aid': 613619, 'ts': 1659304800119, 'type': ...</td>\n",
       "    </tr>\n",
       "  </tbody>\n",
       "</table>\n",
       "</div>"
      ],
      "text/plain": [
       "                                                    events\n",
       "session                                                   \n",
       "0        [{'aid': 1517085, 'ts': 1659304800025, 'type':...\n",
       "1        [{'aid': 424964, 'ts': 1659304800025, 'type': ...\n",
       "2        [{'aid': 763743, 'ts': 1659304800038, 'type': ...\n",
       "3        [{'aid': 1425967, 'ts': 1659304800095, 'type':...\n",
       "4        [{'aid': 613619, 'ts': 1659304800119, 'type': ..."
      ]
     },
     "execution_count": 5,
     "metadata": {},
     "output_type": "execute_result"
    }
   ],
   "source": [
    "### setting index for the ###\n",
    "train_j_df.set_index('session', drop=True, inplace=True)\n",
    "train_j_df.head(5)"
   ]
  },
  {
   "cell_type": "code",
   "execution_count": 6,
   "metadata": {},
   "outputs": [],
   "source": [
    "### importing the parquet files ###\n",
    "train_p = pl.read_parquet('../data/train.parquet')\n",
    "test_p = pl.read_parquet('../data/test.parquet')"
   ]
  },
  {
   "attachments": {},
   "cell_type": "markdown",
   "metadata": {},
   "source": [
    "## 4. Shape of datasets and features"
   ]
  },
  {
   "attachments": {},
   "cell_type": "markdown",
   "metadata": {},
   "source": [
    "- json train: 12,899,779 lines\n",
    "- parquet train unpacked with every aid in a own line 216,716,096"
   ]
  },
  {
   "cell_type": "code",
   "execution_count": 7,
   "metadata": {},
   "outputs": [
    {
     "data": {
      "text/plain": [
       "(150000, 1)"
      ]
     },
     "execution_count": 7,
     "metadata": {},
     "output_type": "execute_result"
    }
   ],
   "source": [
    "### shapes of json ###\n",
    "train_j_df.shape\n",
    "#test_j.shape\n",
    "\n"
   ]
  },
  {
   "cell_type": "code",
   "execution_count": 8,
   "metadata": {},
   "outputs": [
    {
     "name": "stdout",
     "output_type": "stream",
     "text": [
      "(216716096, 4)\n",
      "(6928123, 4)\n"
     ]
    }
   ],
   "source": [
    "### shapes of parquet ###\n",
    "print(train_p.shape)\n",
    "print(test_p.shape)"
   ]
  },
  {
   "cell_type": "code",
   "execution_count": 9,
   "metadata": {},
   "outputs": [
    {
     "data": {
      "text/html": [
       "<div>\n",
       "<style scoped>\n",
       "    .dataframe tbody tr th:only-of-type {\n",
       "        vertical-align: middle;\n",
       "    }\n",
       "\n",
       "    .dataframe tbody tr th {\n",
       "        vertical-align: top;\n",
       "    }\n",
       "\n",
       "    .dataframe thead th {\n",
       "        text-align: right;\n",
       "    }\n",
       "\n",
       "    .dataframe td {\n",
       "        white-space: pre;\n",
       "    }\n",
       "\n",
       "    .dataframe td {\n",
       "        padding-top: 0;\n",
       "    }\n",
       "\n",
       "    .dataframe td {\n",
       "        padding-bottom: 0;\n",
       "    }\n",
       "</style>\n",
       "<table border=\"1\" class=\"dataframe\">\n",
       "<small>shape: (5, 4)</small>\n",
       "<thead>\n",
       "<tr>\n",
       "<th>\n",
       "session\n",
       "</th>\n",
       "<th>\n",
       "aid\n",
       "</th>\n",
       "<th>\n",
       "ts\n",
       "</th>\n",
       "<th>\n",
       "type\n",
       "</th>\n",
       "</tr>\n",
       "<tr>\n",
       "<td>\n",
       "i32\n",
       "</td>\n",
       "<td>\n",
       "i32\n",
       "</td>\n",
       "<td>\n",
       "i32\n",
       "</td>\n",
       "<td>\n",
       "u8\n",
       "</td>\n",
       "</tr>\n",
       "</thead>\n",
       "<tbody>\n",
       "<tr>\n",
       "<td>\n",
       "0\n",
       "</td>\n",
       "<td>\n",
       "1517085\n",
       "</td>\n",
       "<td>\n",
       "1659304800\n",
       "</td>\n",
       "<td>\n",
       "0\n",
       "</td>\n",
       "</tr>\n",
       "<tr>\n",
       "<td>\n",
       "0\n",
       "</td>\n",
       "<td>\n",
       "1563459\n",
       "</td>\n",
       "<td>\n",
       "1659304904\n",
       "</td>\n",
       "<td>\n",
       "0\n",
       "</td>\n",
       "</tr>\n",
       "<tr>\n",
       "<td>\n",
       "0\n",
       "</td>\n",
       "<td>\n",
       "1309446\n",
       "</td>\n",
       "<td>\n",
       "1659367439\n",
       "</td>\n",
       "<td>\n",
       "0\n",
       "</td>\n",
       "</tr>\n",
       "<tr>\n",
       "<td>\n",
       "0\n",
       "</td>\n",
       "<td>\n",
       "16246\n",
       "</td>\n",
       "<td>\n",
       "1659367719\n",
       "</td>\n",
       "<td>\n",
       "0\n",
       "</td>\n",
       "</tr>\n",
       "<tr>\n",
       "<td>\n",
       "0\n",
       "</td>\n",
       "<td>\n",
       "1781822\n",
       "</td>\n",
       "<td>\n",
       "1659367871\n",
       "</td>\n",
       "<td>\n",
       "0\n",
       "</td>\n",
       "</tr>\n",
       "</tbody>\n",
       "</table>\n",
       "</div>"
      ],
      "text/plain": [
       "shape: (5, 4)\n",
       "┌─────────┬─────────┬────────────┬──────┐\n",
       "│ session ┆ aid     ┆ ts         ┆ type │\n",
       "│ ---     ┆ ---     ┆ ---        ┆ ---  │\n",
       "│ i32     ┆ i32     ┆ i32        ┆ u8   │\n",
       "╞═════════╪═════════╪════════════╪══════╡\n",
       "│ 0       ┆ 1517085 ┆ 1659304800 ┆ 0    │\n",
       "│ 0       ┆ 1563459 ┆ 1659304904 ┆ 0    │\n",
       "│ 0       ┆ 1309446 ┆ 1659367439 ┆ 0    │\n",
       "│ 0       ┆ 16246   ┆ 1659367719 ┆ 0    │\n",
       "│ 0       ┆ 1781822 ┆ 1659367871 ┆ 0    │\n",
       "└─────────┴─────────┴────────────┴──────┘"
      ]
     },
     "execution_count": 9,
     "metadata": {},
     "output_type": "execute_result"
    }
   ],
   "source": [
    "train_p.head()"
   ]
  },
  {
   "cell_type": "code",
   "execution_count": 10,
   "metadata": {},
   "outputs": [
    {
     "name": "stdout",
     "output_type": "stream",
     "text": [
      "12899779\n",
      "1855603\n"
     ]
    }
   ],
   "source": [
    "### unique sessions and article ids ###\n",
    "print(train_p['session'].n_unique())\n",
    "print(train_p['aid'].n_unique())"
   ]
  },
  {
   "cell_type": "code",
   "execution_count": 11,
   "metadata": {},
   "outputs": [
    {
     "data": {
      "text/html": [
       "<div>\n",
       "<style scoped>\n",
       "    .dataframe tbody tr th:only-of-type {\n",
       "        vertical-align: middle;\n",
       "    }\n",
       "\n",
       "    .dataframe tbody tr th {\n",
       "        vertical-align: top;\n",
       "    }\n",
       "\n",
       "    .dataframe thead th {\n",
       "        text-align: right;\n",
       "    }\n",
       "\n",
       "    .dataframe td {\n",
       "        white-space: pre;\n",
       "    }\n",
       "\n",
       "    .dataframe td {\n",
       "        padding-top: 0;\n",
       "    }\n",
       "\n",
       "    .dataframe td {\n",
       "        padding-bottom: 0;\n",
       "    }\n",
       "</style>\n",
       "<table border=\"1\" class=\"dataframe\">\n",
       "<small>shape: (3,)</small>\n",
       "<thead>\n",
       "<tr>\n",
       "<th>\n",
       "type\n",
       "</th>\n",
       "</tr>\n",
       "<tr>\n",
       "<td>\n",
       "u8\n",
       "</td>\n",
       "</tr>\n",
       "</thead>\n",
       "<tbody>\n",
       "<tr>\n",
       "<td>\n",
       "0\n",
       "</td>\n",
       "</tr>\n",
       "<tr>\n",
       "<td>\n",
       "1\n",
       "</td>\n",
       "</tr>\n",
       "<tr>\n",
       "<td>\n",
       "2\n",
       "</td>\n",
       "</tr>\n",
       "</tbody>\n",
       "</table>\n",
       "</div>"
      ],
      "text/plain": [
       "shape: (3,)\n",
       "Series: 'type' [u8]\n",
       "[\n",
       "\t0\n",
       "\t1\n",
       "\t2\n",
       "]"
      ]
     },
     "execution_count": 11,
     "metadata": {},
     "output_type": "execute_result"
    }
   ],
   "source": [
    "### click 0, add to cart 1 and order is 2 ###\n",
    "train_p['type'].unique()"
   ]
  },
  {
   "cell_type": "code",
   "execution_count": 12,
   "metadata": {},
   "outputs": [],
   "source": [
    "### selecting different sessions with specific features ###\n",
    "q = (\n",
    "    train_p.lazy()\n",
    "    .groupby(\"session\")\n",
    "    .agg(\n",
    "        [\n",
    "            (pl.col(\"type\") == 0).sum().alias(\"click\"),\n",
    "            (pl.col(\"type\") == 1).sum().alias(\"cart\"),\n",
    "            (pl.col(\"type\") == 2).sum().alias(\"order\"),\n",
    "        ]\n",
    "    )\n",
    "    .sort(\"click\", reverse=False)\n",
    "    \n",
    ")\n",
    "\n",
    "train_p1 = q.collect()"
   ]
  },
  {
   "cell_type": "code",
   "execution_count": 13,
   "metadata": {},
   "outputs": [
    {
     "data": {
      "text/html": [
       "<div>\n",
       "<style scoped>\n",
       "    .dataframe tbody tr th:only-of-type {\n",
       "        vertical-align: middle;\n",
       "    }\n",
       "\n",
       "    .dataframe tbody tr th {\n",
       "        vertical-align: top;\n",
       "    }\n",
       "\n",
       "    .dataframe thead th {\n",
       "        text-align: right;\n",
       "    }\n",
       "\n",
       "    .dataframe td {\n",
       "        white-space: pre;\n",
       "    }\n",
       "\n",
       "    .dataframe td {\n",
       "        padding-top: 0;\n",
       "    }\n",
       "\n",
       "    .dataframe td {\n",
       "        padding-bottom: 0;\n",
       "    }\n",
       "</style>\n",
       "<table border=\"1\" class=\"dataframe\">\n",
       "<small>shape: (5, 4)</small>\n",
       "<thead>\n",
       "<tr>\n",
       "<th>\n",
       "session\n",
       "</th>\n",
       "<th>\n",
       "click\n",
       "</th>\n",
       "<th>\n",
       "cart\n",
       "</th>\n",
       "<th>\n",
       "order\n",
       "</th>\n",
       "</tr>\n",
       "<tr>\n",
       "<td>\n",
       "i32\n",
       "</td>\n",
       "<td>\n",
       "u32\n",
       "</td>\n",
       "<td>\n",
       "u32\n",
       "</td>\n",
       "<td>\n",
       "u32\n",
       "</td>\n",
       "</tr>\n",
       "</thead>\n",
       "<tbody>\n",
       "<tr>\n",
       "<td>\n",
       "10485760\n",
       "</td>\n",
       "<td>\n",
       "2\n",
       "</td>\n",
       "<td>\n",
       "0\n",
       "</td>\n",
       "<td>\n",
       "0\n",
       "</td>\n",
       "</tr>\n",
       "<tr>\n",
       "<td>\n",
       "2097152\n",
       "</td>\n",
       "<td>\n",
       "2\n",
       "</td>\n",
       "<td>\n",
       "1\n",
       "</td>\n",
       "<td>\n",
       "0\n",
       "</td>\n",
       "</tr>\n",
       "<tr>\n",
       "<td>\n",
       "7711160\n",
       "</td>\n",
       "<td>\n",
       "2\n",
       "</td>\n",
       "<td>\n",
       "0\n",
       "</td>\n",
       "<td>\n",
       "0\n",
       "</td>\n",
       "</tr>\n",
       "<tr>\n",
       "<td>\n",
       "9130864\n",
       "</td>\n",
       "<td>\n",
       "2\n",
       "</td>\n",
       "<td>\n",
       "0\n",
       "</td>\n",
       "<td>\n",
       "0\n",
       "</td>\n",
       "</tr>\n",
       "<tr>\n",
       "<td>\n",
       "2839408\n",
       "</td>\n",
       "<td>\n",
       "2\n",
       "</td>\n",
       "<td>\n",
       "0\n",
       "</td>\n",
       "<td>\n",
       "0\n",
       "</td>\n",
       "</tr>\n",
       "</tbody>\n",
       "</table>\n",
       "</div>"
      ],
      "text/plain": [
       "shape: (5, 4)\n",
       "┌──────────┬───────┬──────┬───────┐\n",
       "│ session  ┆ click ┆ cart ┆ order │\n",
       "│ ---      ┆ ---   ┆ ---  ┆ ---   │\n",
       "│ i32      ┆ u32   ┆ u32  ┆ u32   │\n",
       "╞══════════╪═══════╪══════╪═══════╡\n",
       "│ 10485760 ┆ 2     ┆ 0    ┆ 0     │\n",
       "│ 2097152  ┆ 2     ┆ 1    ┆ 0     │\n",
       "│ 7711160  ┆ 2     ┆ 0    ┆ 0     │\n",
       "│ 9130864  ┆ 2     ┆ 0    ┆ 0     │\n",
       "│ 2839408  ┆ 2     ┆ 0    ┆ 0     │\n",
       "└──────────┴───────┴──────┴───────┘"
      ]
     },
     "execution_count": 13,
     "metadata": {},
     "output_type": "execute_result"
    }
   ],
   "source": [
    "train_p1.head(5)"
   ]
  },
  {
   "attachments": {},
   "cell_type": "markdown",
   "metadata": {},
   "source": [
    "## 5. Exploring and plotting"
   ]
  },
  {
   "attachments": {},
   "cell_type": "markdown",
   "metadata": {},
   "source": [
    "### 150.000 json dataset train_j_df converted to dataframe"
   ]
  },
  {
   "cell_type": "code",
   "execution_count": 23,
   "metadata": {},
   "outputs": [
    {
     "data": {
      "text/plain": [
       "<bound method NDFrame.head of          index  session                                             events\n",
       "0            0        0  [{'aid': 1517085, 'ts': 1659304800025, 'type':...\n",
       "1            1        1  [{'aid': 424964, 'ts': 1659304800025, 'type': ...\n",
       "2            2        2  [{'aid': 763743, 'ts': 1659304800038, 'type': ...\n",
       "3            3        3  [{'aid': 1425967, 'ts': 1659304800095, 'type':...\n",
       "4            4        4  [{'aid': 613619, 'ts': 1659304800119, 'type': ...\n",
       "...        ...      ...                                                ...\n",
       "149995  149995   149995  [{'aid': 443027, 'ts': 1659332465408, 'type': ...\n",
       "149996  149996   149996  [{'aid': 1849006, 'ts': 1659332465484, 'type':...\n",
       "149997  149997   149997  [{'aid': 135905, 'ts': 1659332465575, 'type': ...\n",
       "149998  149998   149998  [{'aid': 288928, 'ts': 1659332465804, 'type': ...\n",
       "149999  149999   149999  [{'aid': 1752139, 'ts': 1659332465811, 'type':...\n",
       "\n",
       "[150000 rows x 3 columns]>"
      ]
     },
     "execution_count": 23,
     "metadata": {},
     "output_type": "execute_result"
    }
   ],
   "source": [
    "train_j_df = train_j_df.reset_index() #adding index\n",
    "train_j_df.head #control"
   ]
  },
  {
   "cell_type": "code",
   "execution_count": 19,
   "metadata": {},
   "outputs": [
    {
     "data": {
      "text/html": [
       "<div>\n",
       "<style scoped>\n",
       "    .dataframe tbody tr th:only-of-type {\n",
       "        vertical-align: middle;\n",
       "    }\n",
       "\n",
       "    .dataframe tbody tr th {\n",
       "        vertical-align: top;\n",
       "    }\n",
       "\n",
       "    .dataframe thead th {\n",
       "        text-align: right;\n",
       "    }\n",
       "</style>\n",
       "<table border=\"1\" class=\"dataframe\">\n",
       "  <thead>\n",
       "    <tr style=\"text-align: right;\">\n",
       "      <th></th>\n",
       "      <th>session</th>\n",
       "      <th>aid</th>\n",
       "      <th>ts</th>\n",
       "      <th>type</th>\n",
       "    </tr>\n",
       "  </thead>\n",
       "  <tbody>\n",
       "    <tr>\n",
       "      <th>0</th>\n",
       "      <td>0</td>\n",
       "      <td>1517085</td>\n",
       "      <td>1659304800025</td>\n",
       "      <td>clicks</td>\n",
       "    </tr>\n",
       "    <tr>\n",
       "      <th>1</th>\n",
       "      <td>0</td>\n",
       "      <td>1563459</td>\n",
       "      <td>1659304904511</td>\n",
       "      <td>clicks</td>\n",
       "    </tr>\n",
       "    <tr>\n",
       "      <th>2</th>\n",
       "      <td>0</td>\n",
       "      <td>1309446</td>\n",
       "      <td>1659367439426</td>\n",
       "      <td>clicks</td>\n",
       "    </tr>\n",
       "    <tr>\n",
       "      <th>3</th>\n",
       "      <td>0</td>\n",
       "      <td>16246</td>\n",
       "      <td>1659367719997</td>\n",
       "      <td>clicks</td>\n",
       "    </tr>\n",
       "    <tr>\n",
       "      <th>4</th>\n",
       "      <td>0</td>\n",
       "      <td>1781822</td>\n",
       "      <td>1659367871344</td>\n",
       "      <td>clicks</td>\n",
       "    </tr>\n",
       "    <tr>\n",
       "      <th>...</th>\n",
       "      <td>...</td>\n",
       "      <td>...</td>\n",
       "      <td>...</td>\n",
       "      <td>...</td>\n",
       "    </tr>\n",
       "    <tr>\n",
       "      <th>7841822</th>\n",
       "      <td>149998</td>\n",
       "      <td>752186</td>\n",
       "      <td>1659332590213</td>\n",
       "      <td>clicks</td>\n",
       "    </tr>\n",
       "    <tr>\n",
       "      <th>7841823</th>\n",
       "      <td>149999</td>\n",
       "      <td>1752139</td>\n",
       "      <td>1659332465811</td>\n",
       "      <td>clicks</td>\n",
       "    </tr>\n",
       "    <tr>\n",
       "      <th>7841824</th>\n",
       "      <td>149999</td>\n",
       "      <td>276163</td>\n",
       "      <td>1659332518642</td>\n",
       "      <td>clicks</td>\n",
       "    </tr>\n",
       "    <tr>\n",
       "      <th>7841825</th>\n",
       "      <td>149999</td>\n",
       "      <td>1617030</td>\n",
       "      <td>1660131815785</td>\n",
       "      <td>clicks</td>\n",
       "    </tr>\n",
       "    <tr>\n",
       "      <th>7841826</th>\n",
       "      <td>149999</td>\n",
       "      <td>674554</td>\n",
       "      <td>1660132675505</td>\n",
       "      <td>clicks</td>\n",
       "    </tr>\n",
       "  </tbody>\n",
       "</table>\n",
       "<p>7841827 rows × 4 columns</p>\n",
       "</div>"
      ],
      "text/plain": [
       "         session      aid             ts    type\n",
       "0              0  1517085  1659304800025  clicks\n",
       "1              0  1563459  1659304904511  clicks\n",
       "2              0  1309446  1659367439426  clicks\n",
       "3              0    16246  1659367719997  clicks\n",
       "4              0  1781822  1659367871344  clicks\n",
       "...          ...      ...            ...     ...\n",
       "7841822   149998   752186  1659332590213  clicks\n",
       "7841823   149999  1752139  1659332465811  clicks\n",
       "7841824   149999   276163  1659332518642  clicks\n",
       "7841825   149999  1617030  1660131815785  clicks\n",
       "7841826   149999   674554  1660132675505  clicks\n",
       "\n",
       "[7841827 rows x 4 columns]"
      ]
     },
     "execution_count": 19,
     "metadata": {},
     "output_type": "execute_result"
    }
   ],
   "source": [
    "### json to df and from 150,000 to 7 million... ###\n",
    "events_dict = {\n",
    "    \"session\": [],\n",
    "    \"aid\": [],\n",
    "    \"ts\": [],\n",
    "    \"type\": [],\n",
    "}\n",
    "\n",
    "for _, row in train_j_df.iterrows():\n",
    "    for event in row[\"events\"]:\n",
    "        events_dict[\"session\"].append(row[\"session\"])\n",
    "        events_dict[\"aid\"].append(event[\"aid\"])\n",
    "        events_dict[\"ts\"].append(event[\"ts\"])\n",
    "        events_dict[\"type\"].append(event[\"type\"])\n",
    "\n",
    "train_part = pd.DataFrame(events_dict)\n",
    "train_part"
   ]
  },
  {
   "cell_type": "code",
   "execution_count": 20,
   "metadata": {},
   "outputs": [
    {
     "data": {
      "text/html": [
       "<div>\n",
       "<style scoped>\n",
       "    .dataframe tbody tr th:only-of-type {\n",
       "        vertical-align: middle;\n",
       "    }\n",
       "\n",
       "    .dataframe tbody tr th {\n",
       "        vertical-align: top;\n",
       "    }\n",
       "\n",
       "    .dataframe thead th {\n",
       "        text-align: right;\n",
       "    }\n",
       "</style>\n",
       "<table border=\"1\" class=\"dataframe\">\n",
       "  <thead>\n",
       "    <tr style=\"text-align: right;\">\n",
       "      <th></th>\n",
       "      <th>session</th>\n",
       "      <th>aid</th>\n",
       "      <th>ts</th>\n",
       "      <th>type</th>\n",
       "    </tr>\n",
       "  </thead>\n",
       "  <tbody>\n",
       "    <tr>\n",
       "      <th>0</th>\n",
       "      <td>0</td>\n",
       "      <td>1517085</td>\n",
       "      <td>2022-07-31 22:00:00.025</td>\n",
       "      <td>clicks</td>\n",
       "    </tr>\n",
       "    <tr>\n",
       "      <th>1</th>\n",
       "      <td>0</td>\n",
       "      <td>1563459</td>\n",
       "      <td>2022-07-31 22:01:44.511</td>\n",
       "      <td>clicks</td>\n",
       "    </tr>\n",
       "    <tr>\n",
       "      <th>2</th>\n",
       "      <td>0</td>\n",
       "      <td>1309446</td>\n",
       "      <td>2022-08-01 15:23:59.426</td>\n",
       "      <td>clicks</td>\n",
       "    </tr>\n",
       "    <tr>\n",
       "      <th>3</th>\n",
       "      <td>0</td>\n",
       "      <td>16246</td>\n",
       "      <td>2022-08-01 15:28:39.997</td>\n",
       "      <td>clicks</td>\n",
       "    </tr>\n",
       "    <tr>\n",
       "      <th>4</th>\n",
       "      <td>0</td>\n",
       "      <td>1781822</td>\n",
       "      <td>2022-08-01 15:31:11.344</td>\n",
       "      <td>clicks</td>\n",
       "    </tr>\n",
       "    <tr>\n",
       "      <th>...</th>\n",
       "      <td>...</td>\n",
       "      <td>...</td>\n",
       "      <td>...</td>\n",
       "      <td>...</td>\n",
       "    </tr>\n",
       "    <tr>\n",
       "      <th>7841822</th>\n",
       "      <td>149998</td>\n",
       "      <td>752186</td>\n",
       "      <td>2022-08-01 05:43:10.213</td>\n",
       "      <td>clicks</td>\n",
       "    </tr>\n",
       "    <tr>\n",
       "      <th>7841823</th>\n",
       "      <td>149999</td>\n",
       "      <td>1752139</td>\n",
       "      <td>2022-08-01 05:41:05.811</td>\n",
       "      <td>clicks</td>\n",
       "    </tr>\n",
       "    <tr>\n",
       "      <th>7841824</th>\n",
       "      <td>149999</td>\n",
       "      <td>276163</td>\n",
       "      <td>2022-08-01 05:41:58.642</td>\n",
       "      <td>clicks</td>\n",
       "    </tr>\n",
       "    <tr>\n",
       "      <th>7841825</th>\n",
       "      <td>149999</td>\n",
       "      <td>1617030</td>\n",
       "      <td>2022-08-10 11:43:35.785</td>\n",
       "      <td>clicks</td>\n",
       "    </tr>\n",
       "    <tr>\n",
       "      <th>7841826</th>\n",
       "      <td>149999</td>\n",
       "      <td>674554</td>\n",
       "      <td>2022-08-10 11:57:55.505</td>\n",
       "      <td>clicks</td>\n",
       "    </tr>\n",
       "  </tbody>\n",
       "</table>\n",
       "<p>7841827 rows × 4 columns</p>\n",
       "</div>"
      ],
      "text/plain": [
       "         session      aid                      ts    type\n",
       "0              0  1517085 2022-07-31 22:00:00.025  clicks\n",
       "1              0  1563459 2022-07-31 22:01:44.511  clicks\n",
       "2              0  1309446 2022-08-01 15:23:59.426  clicks\n",
       "3              0    16246 2022-08-01 15:28:39.997  clicks\n",
       "4              0  1781822 2022-08-01 15:31:11.344  clicks\n",
       "...          ...      ...                     ...     ...\n",
       "7841822   149998   752186 2022-08-01 05:43:10.213  clicks\n",
       "7841823   149999  1752139 2022-08-01 05:41:05.811  clicks\n",
       "7841824   149999   276163 2022-08-01 05:41:58.642  clicks\n",
       "7841825   149999  1617030 2022-08-10 11:43:35.785  clicks\n",
       "7841826   149999   674554 2022-08-10 11:57:55.505  clicks\n",
       "\n",
       "[7841827 rows x 4 columns]"
      ]
     },
     "metadata": {},
     "output_type": "display_data"
    }
   ],
   "source": [
    "### changing the time ###\n",
    "train_part['ts'] = pd.to_datetime(train_part['ts'], unit='ms')\n",
    "display(train_part)"
   ]
  },
  {
   "cell_type": "code",
   "execution_count": 21,
   "metadata": {},
   "outputs": [
    {
     "name": "stdout",
     "output_type": "stream",
     "text": [
      "Number of sessions: 150000\n",
      "Number of events: 7841827\n",
      "Mean number of events in session: 52.27884666666667\n"
     ]
    }
   ],
   "source": [
    "### stats of the dataset ###\n",
    "n_sessions = train_part[\"session\"].nunique()\n",
    "n_events = train_part.shape[0]\n",
    "\n",
    "print(f\"Number of sessions: {n_sessions}\")\n",
    "print(f\"Number of events: {n_events}\")\n",
    "print(f\"Mean number of events in session: {n_events/n_sessions}\")"
   ]
  },
  {
   "cell_type": "code",
   "execution_count": 26,
   "metadata": {},
   "outputs": [
    {
     "data": {
      "image/png": "[encoded data removed]",
      "text/plain": [
       "<Figure size 1000x500 with 1 Axes>"
      ]
     },
     "metadata": {},
     "output_type": "display_data"
    }
   ],
   "source": [
    "#sns.color_palette(\"rocket\", as_cmap=True)\n",
    "\n",
    "plt.figure(figsize=(10, 5))\n",
    "sns.histplot(train_part['type'], stat='percent', kde=False, bins=100, palette=\"rocket\")\n",
    "plt.title('Distribution of types')\n",
    "plt.xlabel('type')\n",
    "plt.ylabel('percent of events')\n",
    "plt.show()"
   ]
  },
  {
   "attachments": {},
   "cell_type": "markdown",
   "metadata": {},
   "source": [
    "Renaming with polar"
   ]
  },
  {
   "cell_type": "code",
   "execution_count": null,
   "metadata": {},
   "outputs": [],
   "source": [
    "df1= train_p.clone()"
   ]
  },
  {
   "cell_type": "code",
   "execution_count": null,
   "metadata": {},
   "outputs": [],
   "source": [
    "from_ = [0, 1, 2]\n",
    "to_ = ['click', 'cart', 'order']"
   ]
  },
  {
   "cell_type": "code",
   "execution_count": null,
   "metadata": {},
   "outputs": [],
   "source": [
    "df1= df1.with_column(\n",
    "    pl.when(pl.col(\"type\") == from_[0])\n",
    "    .then(to_[0])\n",
    "    .when(pl.col(\"type\") == from_[1])\n",
    "    .then(to_[1])\n",
    "    .when(pl.col(\"type\") == from_[2])\n",
    "    .then(to_[2])\n",
    "    .otherwise(pl.col(\"type\")).alias(\"type\")\n",
    ")\n",
    "\n",
    "df1['type'].unique()"
   ]
  },
  {
   "attachments": {},
   "cell_type": "markdown",
   "metadata": {},
   "source": [
    "## 6. Cleaning?"
   ]
  },
  {
   "attachments": {},
   "cell_type": "markdown",
   "metadata": {},
   "source": [
    "Notebook Inspiration:\n",
    "\n",
    "https://www.kaggle.com/code/edwardcrookenden/otto-getting-started-eda-baseline\n",
    "\n",
    "https://www.kaggle.com/code/parthpankajtiwary/otto-eda-understanding-users-and-events\n",
    "\n",
    "https://www.kaggle.com/code/mvvppp/otto-eda-to-getting-started"
   ]
  }
 ],
 "metadata": {
  "kernelspec": {
   "display_name": ".venv",
   "language": "python",
   "name": "python3"
  },
  "language_info": {
   "codemirror_mode": {
    "name": "ipython",
    "version": 3
   },
   "file_extension": ".py",
   "mimetype": "text/x-python",
   "name": "python",
   "nbconvert_exporter": "python",
   "pygments_lexer": "ipython3",
   "version": "3.9.8 (main, Nov 14 2022, 15:56:43) \n[Clang 14.0.0 (clang-1400.0.29.202)]"
  },
  "orig_nbformat": 4,
  "vscode": {
   "interpreter": {
    "hash": "99169b0cb5d321d6fb0ce25e5504806b606e9657bf5f7b4805e5c55fc65e7301"
   }
  }
 },
 "nbformat": 4,
 "nbformat_minor": 2
}

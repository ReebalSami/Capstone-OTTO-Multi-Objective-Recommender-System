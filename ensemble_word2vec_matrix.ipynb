{
 "cells": [
  {
   "cell_type": "code",
   "execution_count": 1,
   "metadata": {},
   "outputs": [
    {
     "name": "stdout",
     "output_type": "stream",
     "text": [
      "Requirement already satisfied: polars in /Users/tobi/Desktop/neuefische/Capstone-OTTO-Multi-Objective-Recommender-System/.venv/lib/python3.9/site-packages (0.15.17)\n",
      "Requirement already satisfied: typing_extensions>=4.0.0 in /Users/tobi/Desktop/neuefische/Capstone-OTTO-Multi-Objective-Recommender-System/.venv/lib/python3.9/site-packages (from polars) (4.4.0)\n"
     ]
    }
   ],
   "source": [
    "!pip install polars"
   ]
  },
  {
   "cell_type": "code",
   "execution_count": 1,
   "metadata": {},
   "outputs": [],
   "source": [
    "import polars as pl"
   ]
  },
  {
   "cell_type": "code",
   "execution_count": 2,
   "metadata": {},
   "outputs": [],
   "source": [
    "paths = ['../data/submission_matrix_only.csv', '../data/word2vec_best_model.csv']"
   ]
  },
  {
   "cell_type": "code",
   "execution_count": 3,
   "metadata": {},
   "outputs": [],
   "source": [
    "def read_sub(path, weight=1): # by default let us assing the weight of 1 to predictions from each submission, this will be akin to a standard vote ensemble\n",
    "    '''a helper function for loading and preprocessing submissions'''\n",
    "    return (\n",
    "        pl.read_csv(path)\n",
    "            .with_column(pl.col('labels').str.split(by=' '))\n",
    "            .with_column(pl.lit(weight).alias('vote'))\n",
    "            .explode('labels')\n",
    "            .rename({'labels': 'aid'})\n",
    "            .with_column(pl.col('aid').cast(pl.UInt32)) # we are casting the `aids` to `Int32`! memory management is super important to ensure we don't run out of resources\n",
    "            .with_column(pl.col('vote').cast(pl.UInt8))\n",
    "    )"
   ]
  },
  {
   "cell_type": "code",
   "execution_count": 4,
   "metadata": {},
   "outputs": [
    {
     "name": "stderr",
     "output_type": "stream",
     "text": [
      "/var/folders/31/jtc_3nm57535kt99w8nb24lh0000gn/T/ipykernel_29592/3887510293.py:4: DeprecationWarning: `with_column` has been deprecated in favor of `with_columns`. This method will be removed in version 0.17.0\n",
      "  pl.read_csv(path)\n"
     ]
    },
    {
     "data": {
      "text/html": [
       "<div>\n",
       "<style scoped>\n",
       "    .dataframe tbody tr th:only-of-type {\n",
       "        vertical-align: middle;\n",
       "    }\n",
       "\n",
       "    .dataframe tbody tr th {\n",
       "        vertical-align: top;\n",
       "    }\n",
       "\n",
       "    .dataframe thead th {\n",
       "        text-align: right;\n",
       "    }\n",
       "\n",
       "    .dataframe td {\n",
       "        white-space: pre;\n",
       "    }\n",
       "\n",
       "    .dataframe td {\n",
       "        padding-top: 0;\n",
       "    }\n",
       "\n",
       "    .dataframe td {\n",
       "        padding-bottom: 0;\n",
       "    }\n",
       "</style>\n",
       "<table border=\"1\" class=\"dataframe\">\n",
       "<small>shape: (5, 3)</small>\n",
       "<thead>\n",
       "<tr>\n",
       "<th>\n",
       "session_type\n",
       "</th>\n",
       "<th>\n",
       "aid\n",
       "</th>\n",
       "<th>\n",
       "vote\n",
       "</th>\n",
       "</tr>\n",
       "<tr>\n",
       "<td>\n",
       "str\n",
       "</td>\n",
       "<td>\n",
       "u32\n",
       "</td>\n",
       "<td>\n",
       "u8\n",
       "</td>\n",
       "</tr>\n",
       "</thead>\n",
       "<tbody>\n",
       "<tr>\n",
       "<td>\n",
       "&quot;12899779_click...\n",
       "</td>\n",
       "<td>\n",
       "59625\n",
       "</td>\n",
       "<td>\n",
       "1\n",
       "</td>\n",
       "</tr>\n",
       "<tr>\n",
       "<td>\n",
       "&quot;12899779_click...\n",
       "</td>\n",
       "<td>\n",
       "894169\n",
       "</td>\n",
       "<td>\n",
       "1\n",
       "</td>\n",
       "</tr>\n",
       "<tr>\n",
       "<td>\n",
       "&quot;12899779_click...\n",
       "</td>\n",
       "<td>\n",
       "737445\n",
       "</td>\n",
       "<td>\n",
       "1\n",
       "</td>\n",
       "</tr>\n",
       "<tr>\n",
       "<td>\n",
       "&quot;12899779_click...\n",
       "</td>\n",
       "<td>\n",
       "1246235\n",
       "</td>\n",
       "<td>\n",
       "1\n",
       "</td>\n",
       "</tr>\n",
       "<tr>\n",
       "<td>\n",
       "&quot;12899779_click...\n",
       "</td>\n",
       "<td>\n",
       "499621\n",
       "</td>\n",
       "<td>\n",
       "1\n",
       "</td>\n",
       "</tr>\n",
       "</tbody>\n",
       "</table>\n",
       "</div>"
      ],
      "text/plain": [
       "shape: (5, 3)\n",
       "┌─────────────────┬─────────┬──────┐\n",
       "│ session_type    ┆ aid     ┆ vote │\n",
       "│ ---             ┆ ---     ┆ ---  │\n",
       "│ str             ┆ u32     ┆ u8   │\n",
       "╞═════════════════╪═════════╪══════╡\n",
       "│ 12899779_clicks ┆ 59625   ┆ 1    │\n",
       "│ 12899779_clicks ┆ 894169  ┆ 1    │\n",
       "│ 12899779_clicks ┆ 737445  ┆ 1    │\n",
       "│ 12899779_clicks ┆ 1246235 ┆ 1    │\n",
       "│ 12899779_clicks ┆ 499621  ┆ 1    │\n",
       "└─────────────────┴─────────┴──────┘"
      ]
     },
     "execution_count": 4,
     "metadata": {},
     "output_type": "execute_result"
    }
   ],
   "source": [
    "subs = [read_sub(path) for path in paths]\n",
    "subs[0].head()"
   ]
  },
  {
   "cell_type": "code",
   "execution_count": 6,
   "metadata": {},
   "outputs": [
    {
     "data": {
      "text/plain": [
       "[shape: (99595062, 3)\n",
       " ┌─────────────────┬─────────┬──────┐\n",
       " │ session_type    ┆ aid     ┆ vote │\n",
       " │ ---             ┆ ---     ┆ ---  │\n",
       " │ str             ┆ u32     ┆ u8   │\n",
       " ╞═════════════════╪═════════╪══════╡\n",
       " │ 12899779_clicks ┆ 59625   ┆ 1    │\n",
       " │ 12899779_clicks ┆ 894169  ┆ 1    │\n",
       " │ 12899779_clicks ┆ 737445  ┆ 1    │\n",
       " │ 12899779_clicks ┆ 1246235 ┆ 1    │\n",
       " │ ...             ┆ ...     ┆ ...  │\n",
       " │ 14571581_orders ┆ 1124107 ┆ 1    │\n",
       " │ 14571581_orders ┆ 1547466 ┆ 1    │\n",
       " │ 14571581_orders ┆ 940217  ┆ 1    │\n",
       " │ 14571581_orders ┆ 1217415 ┆ 1    │\n",
       " └─────────────────┴─────────┴──────┘,\n",
       " shape: (98546412, 3)\n",
       " ┌─────────────────┬─────────┬──────┐\n",
       " │ session_type    ┆ aid     ┆ vote │\n",
       " │ ---             ┆ ---     ┆ ---  │\n",
       " │ str             ┆ u32     ┆ u8   │\n",
       " ╞═════════════════╪═════════╪══════╡\n",
       " │ 12899779_clicks ┆ 59625   ┆ 1    │\n",
       " │ 12899779_clicks ┆ 446359  ┆ 1    │\n",
       " │ 12899779_clicks ┆ 1612099 ┆ 1    │\n",
       " │ 12899779_clicks ┆ 115260  ┆ 1    │\n",
       " │ ...             ┆ ...     ┆ ...  │\n",
       " │ 14571581_orders ┆ 1677680 ┆ 1    │\n",
       " │ 14571581_orders ┆ 1854472 ┆ 1    │\n",
       " │ 14571581_orders ┆ 1284457 ┆ 1    │\n",
       " │ 14571581_orders ┆ 549256  ┆ 1    │\n",
       " └─────────────────┴─────────┴──────┘]"
      ]
     },
     "execution_count": 6,
     "metadata": {},
     "output_type": "execute_result"
    }
   ],
   "source": [
    "subs"
   ]
  },
  {
   "cell_type": "code",
   "execution_count": 5,
   "metadata": {},
   "outputs": [],
   "source": [
    "subs1 = subs[0].join(subs[1], how='outer', on=['session_type', 'aid'])\n"
   ]
  },
  {
   "cell_type": "code",
   "execution_count": 6,
   "metadata": {},
   "outputs": [
    {
     "data": {
      "text/plain": [
       "(159536280, 4)"
      ]
     },
     "execution_count": 6,
     "metadata": {},
     "output_type": "execute_result"
    }
   ],
   "source": [
    "subs1.shape"
   ]
  },
  {
   "cell_type": "code",
   "execution_count": 7,
   "metadata": {},
   "outputs": [
    {
     "name": "stderr",
     "output_type": "stream",
     "text": [
      "/var/folders/31/jtc_3nm57535kt99w8nb24lh0000gn/T/ipykernel_29592/397651449.py:1: DeprecationWarning: `with_column` has been deprecated in favor of `with_columns`. This method will be removed in version 0.17.0\n",
      "  subs_final = (subs1\n"
     ]
    },
    {
     "data": {
      "text/html": [
       "<div>\n",
       "<style scoped>\n",
       "    .dataframe tbody tr th:only-of-type {\n",
       "        vertical-align: middle;\n",
       "    }\n",
       "\n",
       "    .dataframe tbody tr th {\n",
       "        vertical-align: top;\n",
       "    }\n",
       "\n",
       "    .dataframe thead th {\n",
       "        text-align: right;\n",
       "    }\n",
       "\n",
       "    .dataframe td {\n",
       "        white-space: pre;\n",
       "    }\n",
       "\n",
       "    .dataframe td {\n",
       "        padding-top: 0;\n",
       "    }\n",
       "\n",
       "    .dataframe td {\n",
       "        padding-bottom: 0;\n",
       "    }\n",
       "</style>\n",
       "<table border=\"1\" class=\"dataframe\">\n",
       "<small>shape: (5, 3)</small>\n",
       "<thead>\n",
       "<tr>\n",
       "<th>\n",
       "session_type\n",
       "</th>\n",
       "<th>\n",
       "aid\n",
       "</th>\n",
       "<th>\n",
       "vote_sum\n",
       "</th>\n",
       "</tr>\n",
       "<tr>\n",
       "<td>\n",
       "str\n",
       "</td>\n",
       "<td>\n",
       "u32\n",
       "</td>\n",
       "<td>\n",
       "u8\n",
       "</td>\n",
       "</tr>\n",
       "</thead>\n",
       "<tbody>\n",
       "<tr>\n",
       "<td>\n",
       "&quot;14571581_order...\n",
       "</td>\n",
       "<td>\n",
       "1124107\n",
       "</td>\n",
       "<td>\n",
       "2\n",
       "</td>\n",
       "</tr>\n",
       "<tr>\n",
       "<td>\n",
       "&quot;14571581_order...\n",
       "</td>\n",
       "<td>\n",
       "1392029\n",
       "</td>\n",
       "<td>\n",
       "2\n",
       "</td>\n",
       "</tr>\n",
       "<tr>\n",
       "<td>\n",
       "&quot;14571581_order...\n",
       "</td>\n",
       "<td>\n",
       "1236674\n",
       "</td>\n",
       "<td>\n",
       "2\n",
       "</td>\n",
       "</tr>\n",
       "<tr>\n",
       "<td>\n",
       "&quot;14571581_order...\n",
       "</td>\n",
       "<td>\n",
       "1072049\n",
       "</td>\n",
       "<td>\n",
       "2\n",
       "</td>\n",
       "</tr>\n",
       "<tr>\n",
       "<td>\n",
       "&quot;14571581_order...\n",
       "</td>\n",
       "<td>\n",
       "1401429\n",
       "</td>\n",
       "<td>\n",
       "2\n",
       "</td>\n",
       "</tr>\n",
       "</tbody>\n",
       "</table>\n",
       "</div>"
      ],
      "text/plain": [
       "shape: (5, 3)\n",
       "┌─────────────────┬─────────┬──────────┐\n",
       "│ session_type    ┆ aid     ┆ vote_sum │\n",
       "│ ---             ┆ ---     ┆ ---      │\n",
       "│ str             ┆ u32     ┆ u8       │\n",
       "╞═════════════════╪═════════╪══════════╡\n",
       "│ 14571581_orders ┆ 1124107 ┆ 2        │\n",
       "│ 14571581_orders ┆ 1392029 ┆ 2        │\n",
       "│ 14571581_orders ┆ 1236674 ┆ 2        │\n",
       "│ 14571581_orders ┆ 1072049 ┆ 2        │\n",
       "│ 14571581_orders ┆ 1401429 ┆ 2        │\n",
       "└─────────────────┴─────────┴──────────┘"
      ]
     },
     "execution_count": 7,
     "metadata": {},
     "output_type": "execute_result"
    }
   ],
   "source": [
    "subs_final = (subs1\n",
    "    .fill_null(0)\n",
    "    .with_column((pl.col('vote') + pl.col('vote_right')).alias('vote_sum'))\n",
    "    .drop(['vote', 'vote_right'])\n",
    "    .sort(by='vote_sum')\n",
    "    .reverse()\n",
    ")\n",
    "\n",
    "subs_final.head()"
   ]
  },
  {
   "cell_type": "code",
   "execution_count": 8,
   "metadata": {},
   "outputs": [
    {
     "name": "stderr",
     "output_type": "stream",
     "text": [
      "/var/folders/31/jtc_3nm57535kt99w8nb24lh0000gn/T/ipykernel_29592/1900144451.py:5: DeprecationWarning: `with_column` has been deprecated in favor of `with_columns`. This method will be removed in version 0.17.0\n",
      "  preds = preds.with_column(pl.col('labels').apply(lambda lst: ' '.join([str(aid) for aid in lst])))\n"
     ]
    }
   ],
   "source": [
    "preds = subs_final.groupby('session_type').agg([\n",
    "    pl.col('aid').head(20).alias('labels')\n",
    "])\n",
    "\n",
    "preds = preds.with_column(pl.col('labels').apply(lambda lst: ' '.join([str(aid) for aid in lst])))"
   ]
  },
  {
   "cell_type": "code",
   "execution_count": 9,
   "metadata": {},
   "outputs": [
    {
     "name": "stdout",
     "output_type": "stream",
     "text": [
      "CPU times: user 1.3 s, sys: 2.5 s, total: 3.81 s\n",
      "Wall time: 2.1 s\n"
     ]
    }
   ],
   "source": [
    "%%time\n",
    "\n",
    "preds.write_csv('submission_ensemble_word2vec_matrix.csv')"
   ]
  }
 ],
 "metadata": {
  "kernelspec": {
   "display_name": ".venv",
   "language": "python",
   "name": "python3"
  },
  "language_info": {
   "codemirror_mode": {
    "name": "ipython",
    "version": 3
   },
   "file_extension": ".py",
   "mimetype": "text/x-python",
   "name": "python",
   "nbconvert_exporter": "python",
   "pygments_lexer": "ipython3",
   "version": "3.9.8"
  },
  "orig_nbformat": 4,
  "vscode": {
   "interpreter": {
    "hash": "edfeea400d81ca3feef2d2b2500044129aae7aa2fb1143256c7581b461022992"
   }
  }
 },
 "nbformat": 4,
 "nbformat_minor": 2
}
